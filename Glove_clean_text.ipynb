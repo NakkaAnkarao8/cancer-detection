{
  "nbformat": 4,
  "nbformat_minor": 0,
  "metadata": {
    "colab": {
      "provenance": [],
      "authorship_tag": "ABX9TyMfrFnSAYIZWNRZA/Atkj0d",
      "include_colab_link": true
    },
    "kernelspec": {
      "name": "python3",
      "display_name": "Python 3"
    },
    "language_info": {
      "name": "python"
    }
  },
  "cells": [
    {
      "cell_type": "markdown",
      "metadata": {
        "id": "view-in-github",
        "colab_type": "text"
      },
      "source": [
        "<a href=\"https://colab.research.google.com/github/NakkaAnkarao8/cancer-detection/blob/main/Glove_clean_text.ipynb\" target=\"_parent\"><img src=\"https://colab.research.google.com/assets/colab-badge.svg\" alt=\"Open In Colab\"/></a>"
      ]
    },
    {
      "cell_type": "code",
      "execution_count": null,
      "metadata": {
        "colab": {
          "base_uri": "https://localhost:8080/"
        },
        "id": "dpUgt74Z8fit",
        "outputId": "dee2b2d6-1766-4b88-c262-8af2715082f3"
      },
      "outputs": [
        {
          "output_type": "stream",
          "name": "stdout",
          "text": [
            "Drive already mounted at /content/drive; to attempt to forcibly remount, call drive.mount(\"/content/drive\", force_remount=True).\n"
          ]
        }
      ],
      "source": [
        "from google.colab import drive\n",
        "drive.mount('/content/drive')"
      ]
    },
    {
      "cell_type": "code",
      "source": [
        "import pandas as pd\n",
        "import numpy as np\n",
        "data = pd.read_csv('/content/drive/MyDrive/data/mtsamples.csv')"
      ],
      "metadata": {
        "id": "lWCz_Jit81gS"
      },
      "execution_count": null,
      "outputs": []
    },
    {
      "cell_type": "code",
      "source": [
        "data.head(5)"
      ],
      "metadata": {
        "colab": {
          "base_uri": "https://localhost:8080/",
          "height": 354
        },
        "id": "Q65sTB8tiqRC",
        "outputId": "32843a7f-c843-4487-dd5c-e426f5c178df"
      },
      "execution_count": null,
      "outputs": [
        {
          "output_type": "execute_result",
          "data": {
            "text/plain": [
              "   Unnamed: 0                                        description  \\\n",
              "0           0   A 23-year-old white female presents with comp...   \n",
              "1           1           Consult for laparoscopic gastric bypass.   \n",
              "2           2           Consult for laparoscopic gastric bypass.   \n",
              "3           3                             2-D M-Mode. Doppler.     \n",
              "4           4                                 2-D Echocardiogram   \n",
              "\n",
              "             medical_specialty                                sample_name  \\\n",
              "0         Allergy / Immunology                         Allergic Rhinitis    \n",
              "1                   Bariatrics   Laparoscopic Gastric Bypass Consult - 2    \n",
              "2                   Bariatrics   Laparoscopic Gastric Bypass Consult - 1    \n",
              "3   Cardiovascular / Pulmonary                    2-D Echocardiogram - 1    \n",
              "4   Cardiovascular / Pulmonary                    2-D Echocardiogram - 2    \n",
              "\n",
              "                                       transcription  \\\n",
              "0  SUBJECTIVE:,  This 23-year-old white female pr...   \n",
              "1  PAST MEDICAL HISTORY:, He has difficulty climb...   \n",
              "2  HISTORY OF PRESENT ILLNESS: , I have seen ABC ...   \n",
              "3  2-D M-MODE: , ,1.  Left atrial enlargement wit...   \n",
              "4  1.  The left ventricular cavity size and wall ...   \n",
              "\n",
              "                                            keywords  \n",
              "0  allergy / immunology, allergic rhinitis, aller...  \n",
              "1  bariatrics, laparoscopic gastric bypass, weigh...  \n",
              "2  bariatrics, laparoscopic gastric bypass, heart...  \n",
              "3  cardiovascular / pulmonary, 2-d m-mode, dopple...  \n",
              "4  cardiovascular / pulmonary, 2-d, doppler, echo...  "
            ],
            "text/html": [
              "\n",
              "\n",
              "  <div id=\"df-a7d8ccae-e870-4915-80b9-bb79daa057fa\">\n",
              "    <div class=\"colab-df-container\">\n",
              "      <div>\n",
              "<style scoped>\n",
              "    .dataframe tbody tr th:only-of-type {\n",
              "        vertical-align: middle;\n",
              "    }\n",
              "\n",
              "    .dataframe tbody tr th {\n",
              "        vertical-align: top;\n",
              "    }\n",
              "\n",
              "    .dataframe thead th {\n",
              "        text-align: right;\n",
              "    }\n",
              "</style>\n",
              "<table border=\"1\" class=\"dataframe\">\n",
              "  <thead>\n",
              "    <tr style=\"text-align: right;\">\n",
              "      <th></th>\n",
              "      <th>Unnamed: 0</th>\n",
              "      <th>description</th>\n",
              "      <th>medical_specialty</th>\n",
              "      <th>sample_name</th>\n",
              "      <th>transcription</th>\n",
              "      <th>keywords</th>\n",
              "    </tr>\n",
              "  </thead>\n",
              "  <tbody>\n",
              "    <tr>\n",
              "      <th>0</th>\n",
              "      <td>0</td>\n",
              "      <td>A 23-year-old white female presents with comp...</td>\n",
              "      <td>Allergy / Immunology</td>\n",
              "      <td>Allergic Rhinitis</td>\n",
              "      <td>SUBJECTIVE:,  This 23-year-old white female pr...</td>\n",
              "      <td>allergy / immunology, allergic rhinitis, aller...</td>\n",
              "    </tr>\n",
              "    <tr>\n",
              "      <th>1</th>\n",
              "      <td>1</td>\n",
              "      <td>Consult for laparoscopic gastric bypass.</td>\n",
              "      <td>Bariatrics</td>\n",
              "      <td>Laparoscopic Gastric Bypass Consult - 2</td>\n",
              "      <td>PAST MEDICAL HISTORY:, He has difficulty climb...</td>\n",
              "      <td>bariatrics, laparoscopic gastric bypass, weigh...</td>\n",
              "    </tr>\n",
              "    <tr>\n",
              "      <th>2</th>\n",
              "      <td>2</td>\n",
              "      <td>Consult for laparoscopic gastric bypass.</td>\n",
              "      <td>Bariatrics</td>\n",
              "      <td>Laparoscopic Gastric Bypass Consult - 1</td>\n",
              "      <td>HISTORY OF PRESENT ILLNESS: , I have seen ABC ...</td>\n",
              "      <td>bariatrics, laparoscopic gastric bypass, heart...</td>\n",
              "    </tr>\n",
              "    <tr>\n",
              "      <th>3</th>\n",
              "      <td>3</td>\n",
              "      <td>2-D M-Mode. Doppler.</td>\n",
              "      <td>Cardiovascular / Pulmonary</td>\n",
              "      <td>2-D Echocardiogram - 1</td>\n",
              "      <td>2-D M-MODE: , ,1.  Left atrial enlargement wit...</td>\n",
              "      <td>cardiovascular / pulmonary, 2-d m-mode, dopple...</td>\n",
              "    </tr>\n",
              "    <tr>\n",
              "      <th>4</th>\n",
              "      <td>4</td>\n",
              "      <td>2-D Echocardiogram</td>\n",
              "      <td>Cardiovascular / Pulmonary</td>\n",
              "      <td>2-D Echocardiogram - 2</td>\n",
              "      <td>1.  The left ventricular cavity size and wall ...</td>\n",
              "      <td>cardiovascular / pulmonary, 2-d, doppler, echo...</td>\n",
              "    </tr>\n",
              "  </tbody>\n",
              "</table>\n",
              "</div>\n",
              "      <button class=\"colab-df-convert\" onclick=\"convertToInteractive('df-a7d8ccae-e870-4915-80b9-bb79daa057fa')\"\n",
              "              title=\"Convert this dataframe to an interactive table.\"\n",
              "              style=\"display:none;\">\n",
              "\n",
              "  <svg xmlns=\"http://www.w3.org/2000/svg\" height=\"24px\"viewBox=\"0 0 24 24\"\n",
              "       width=\"24px\">\n",
              "    <path d=\"M0 0h24v24H0V0z\" fill=\"none\"/>\n",
              "    <path d=\"M18.56 5.44l.94 2.06.94-2.06 2.06-.94-2.06-.94-.94-2.06-.94 2.06-2.06.94zm-11 1L8.5 8.5l.94-2.06 2.06-.94-2.06-.94L8.5 2.5l-.94 2.06-2.06.94zm10 10l.94 2.06.94-2.06 2.06-.94-2.06-.94-.94-2.06-.94 2.06-2.06.94z\"/><path d=\"M17.41 7.96l-1.37-1.37c-.4-.4-.92-.59-1.43-.59-.52 0-1.04.2-1.43.59L10.3 9.45l-7.72 7.72c-.78.78-.78 2.05 0 2.83L4 21.41c.39.39.9.59 1.41.59.51 0 1.02-.2 1.41-.59l7.78-7.78 2.81-2.81c.8-.78.8-2.07 0-2.86zM5.41 20L4 18.59l7.72-7.72 1.47 1.35L5.41 20z\"/>\n",
              "  </svg>\n",
              "      </button>\n",
              "\n",
              "\n",
              "\n",
              "    <div id=\"df-7e5f140e-7798-40c7-b8de-9edfd31b94bd\">\n",
              "      <button class=\"colab-df-quickchart\" onclick=\"quickchart('df-7e5f140e-7798-40c7-b8de-9edfd31b94bd')\"\n",
              "              title=\"Suggest charts.\"\n",
              "              style=\"display:none;\">\n",
              "\n",
              "<svg xmlns=\"http://www.w3.org/2000/svg\" height=\"24px\"viewBox=\"0 0 24 24\"\n",
              "     width=\"24px\">\n",
              "    <g>\n",
              "        <path d=\"M19 3H5c-1.1 0-2 .9-2 2v14c0 1.1.9 2 2 2h14c1.1 0 2-.9 2-2V5c0-1.1-.9-2-2-2zM9 17H7v-7h2v7zm4 0h-2V7h2v10zm4 0h-2v-4h2v4z\"/>\n",
              "    </g>\n",
              "</svg>\n",
              "      </button>\n",
              "    </div>\n",
              "\n",
              "<style>\n",
              "  .colab-df-quickchart {\n",
              "    background-color: #E8F0FE;\n",
              "    border: none;\n",
              "    border-radius: 50%;\n",
              "    cursor: pointer;\n",
              "    display: none;\n",
              "    fill: #1967D2;\n",
              "    height: 32px;\n",
              "    padding: 0 0 0 0;\n",
              "    width: 32px;\n",
              "  }\n",
              "\n",
              "  .colab-df-quickchart:hover {\n",
              "    background-color: #E2EBFA;\n",
              "    box-shadow: 0px 1px 2px rgba(60, 64, 67, 0.3), 0px 1px 3px 1px rgba(60, 64, 67, 0.15);\n",
              "    fill: #174EA6;\n",
              "  }\n",
              "\n",
              "  [theme=dark] .colab-df-quickchart {\n",
              "    background-color: #3B4455;\n",
              "    fill: #D2E3FC;\n",
              "  }\n",
              "\n",
              "  [theme=dark] .colab-df-quickchart:hover {\n",
              "    background-color: #434B5C;\n",
              "    box-shadow: 0px 1px 3px 1px rgba(0, 0, 0, 0.15);\n",
              "    filter: drop-shadow(0px 1px 2px rgba(0, 0, 0, 0.3));\n",
              "    fill: #FFFFFF;\n",
              "  }\n",
              "</style>\n",
              "\n",
              "    <script>\n",
              "      async function quickchart(key) {\n",
              "        const containerElement = document.querySelector('#' + key);\n",
              "        const charts = await google.colab.kernel.invokeFunction(\n",
              "            'suggestCharts', [key], {});\n",
              "      }\n",
              "    </script>\n",
              "\n",
              "      <script>\n",
              "\n",
              "function displayQuickchartButton(domScope) {\n",
              "  let quickchartButtonEl =\n",
              "    domScope.querySelector('#df-7e5f140e-7798-40c7-b8de-9edfd31b94bd button.colab-df-quickchart');\n",
              "  quickchartButtonEl.style.display =\n",
              "    google.colab.kernel.accessAllowed ? 'block' : 'none';\n",
              "}\n",
              "\n",
              "        displayQuickchartButton(document);\n",
              "      </script>\n",
              "      <style>\n",
              "    .colab-df-container {\n",
              "      display:flex;\n",
              "      flex-wrap:wrap;\n",
              "      gap: 12px;\n",
              "    }\n",
              "\n",
              "    .colab-df-convert {\n",
              "      background-color: #E8F0FE;\n",
              "      border: none;\n",
              "      border-radius: 50%;\n",
              "      cursor: pointer;\n",
              "      display: none;\n",
              "      fill: #1967D2;\n",
              "      height: 32px;\n",
              "      padding: 0 0 0 0;\n",
              "      width: 32px;\n",
              "    }\n",
              "\n",
              "    .colab-df-convert:hover {\n",
              "      background-color: #E2EBFA;\n",
              "      box-shadow: 0px 1px 2px rgba(60, 64, 67, 0.3), 0px 1px 3px 1px rgba(60, 64, 67, 0.15);\n",
              "      fill: #174EA6;\n",
              "    }\n",
              "\n",
              "    [theme=dark] .colab-df-convert {\n",
              "      background-color: #3B4455;\n",
              "      fill: #D2E3FC;\n",
              "    }\n",
              "\n",
              "    [theme=dark] .colab-df-convert:hover {\n",
              "      background-color: #434B5C;\n",
              "      box-shadow: 0px 1px 3px 1px rgba(0, 0, 0, 0.15);\n",
              "      filter: drop-shadow(0px 1px 2px rgba(0, 0, 0, 0.3));\n",
              "      fill: #FFFFFF;\n",
              "    }\n",
              "  </style>\n",
              "\n",
              "      <script>\n",
              "        const buttonEl =\n",
              "          document.querySelector('#df-a7d8ccae-e870-4915-80b9-bb79daa057fa button.colab-df-convert');\n",
              "        buttonEl.style.display =\n",
              "          google.colab.kernel.accessAllowed ? 'block' : 'none';\n",
              "\n",
              "        async function convertToInteractive(key) {\n",
              "          const element = document.querySelector('#df-a7d8ccae-e870-4915-80b9-bb79daa057fa');\n",
              "          const dataTable =\n",
              "            await google.colab.kernel.invokeFunction('convertToInteractive',\n",
              "                                                     [key], {});\n",
              "          if (!dataTable) return;\n",
              "\n",
              "          const docLinkHtml = 'Like what you see? Visit the ' +\n",
              "            '<a target=\"_blank\" href=https://colab.research.google.com/notebooks/data_table.ipynb>data table notebook</a>'\n",
              "            + ' to learn more about interactive tables.';\n",
              "          element.innerHTML = '';\n",
              "          dataTable['output_type'] = 'display_data';\n",
              "          await google.colab.output.renderOutput(dataTable, element);\n",
              "          const docLink = document.createElement('div');\n",
              "          docLink.innerHTML = docLinkHtml;\n",
              "          element.appendChild(docLink);\n",
              "        }\n",
              "      </script>\n",
              "    </div>\n",
              "  </div>\n"
            ]
          },
          "metadata": {},
          "execution_count": 4
        }
      ]
    },
    {
      "cell_type": "code",
      "source": [
        "data['transcription'] = data['transcription'] + ' ' + data['description'] + ' ' + data['keywords'] + ' ' + data['medical_specialty'] + ' ' + data['sample_name']"
      ],
      "metadata": {
        "id": "c_PJ4NLaGJHT"
      },
      "execution_count": null,
      "outputs": []
    },
    {
      "cell_type": "code",
      "source": [
        "data['medical_specialty'].value_counts()"
      ],
      "metadata": {
        "id": "Se2qfOxyWy52"
      },
      "execution_count": null,
      "outputs": []
    },
    {
      "cell_type": "code",
      "source": [
        "data_categories  = data.groupby(data['medical_specialty'])\n",
        "i = 1\n",
        "print('===========Original Categories =======================')\n",
        "for catName,dataCategory in data_categories:\n",
        "    print('Cat:'+str(i)+' '+catName + ' : '+ str(len(dataCategory)) )\n",
        "    i = i+1\n",
        "print('==================================')"
      ],
      "metadata": {
        "id": "W52rk-2GouaX"
      },
      "execution_count": null,
      "outputs": []
    },
    {
      "cell_type": "code",
      "source": [
        "filtered_data_categories = data_categories.filter(lambda x:x.shape[0] > 50)\n",
        "final_data_categories = filtered_data_categories.groupby(filtered_data_categories['medical_specialty'])\n",
        "i=1\n",
        "print('============Reduced Categories ======================')\n",
        "for catName,dataCategory in final_data_categories:\n",
        "    print('Cat:'+str(i)+' '+catName + ' : '+ str(len(dataCategory)) )\n",
        "    i = i+1\n",
        "\n",
        "print('============ Reduced Categories ======================')"
      ],
      "metadata": {
        "id": "AP1cgPokoMKx"
      },
      "execution_count": null,
      "outputs": []
    },
    {
      "cell_type": "code",
      "source": [
        "filtered_data_categories['medical_specialty'] =filtered_data_categories['medical_specialty'].apply(lambda x:str.strip(x))\n",
        "mask = filtered_data_categories['medical_specialty'] == 'Surgery'\n",
        "filtered_data_categories = filtered_data_categories[~mask]\n",
        "final_data_categories = filtered_data_categories.groupby(filtered_data_categories['medical_specialty'])\n",
        "mask = filtered_data_categories['medical_specialty'] == 'SOAP / Chart / Progress Notes'\n",
        "filtered_data_categories = filtered_data_categories[~mask]\n",
        "mask = filtered_data_categories['medical_specialty'] == 'Office Notes'\n",
        "filtered_data_categories = filtered_data_categories[~mask]\n",
        "mask = filtered_data_categories['medical_specialty'] == 'Consult - History and Phy.'\n",
        "filtered_data_categories = filtered_data_categories[~mask]\n",
        "mask = filtered_data_categories['medical_specialty'] == 'Emergency Room Reports'\n",
        "filtered_data_categories = filtered_data_categories[~mask]\n",
        "mask = filtered_data_categories['medical_specialty'] == 'Discharge Summary'\n",
        "filtered_data_categories = filtered_data_categories[~mask]\n",
        "mask = filtered_data_categories['medical_specialty'] == 'Pain Management'\n",
        "filtered_data_categories = filtered_data_categories[~mask]\n",
        "mask = filtered_data_categories['medical_specialty'] == 'General Medicine'\n",
        "filtered_data_categories = filtered_data_categories[~mask]\n",
        "\n",
        "\n",
        "mask = filtered_data_categories['medical_specialty'] == 'Neurosurgery'\n",
        "filtered_data_categories.loc[mask, 'medical_specialty'] = 'Neurology'\n",
        "mask = filtered_data_categories['medical_specialty'] == 'Nephrology'\n",
        "filtered_data_categories.loc[mask, 'medical_specialty'] = 'Urology'\n",
        "\n",
        "\n",
        "i=1\n",
        "print('============Reduced Categories======================')\n",
        "for catName,dataCategory in final_data_categories:\n",
        "    print('Cat:'+str(i)+' '+catName + ' : '+ str(len(dataCategory)) )\n",
        "    i = i+1\n",
        "print('============Reduced Categories======================')\n",
        "\n",
        "\n",
        "data = filtered_data_categories[['transcription', 'medical_specialty']]\n",
        "data = data.drop(data[data['transcription'].isna()].index)\n",
        "data.shape"
      ],
      "metadata": {
        "id": "nKIo0e7Bksbi"
      },
      "execution_count": null,
      "outputs": []
    },
    {
      "cell_type": "code",
      "source": [
        "data = data[['transcription', 'medical_specialty']]"
      ],
      "metadata": {
        "id": "VVtu-0lm88uF"
      },
      "execution_count": null,
      "outputs": []
    },
    {
      "cell_type": "code",
      "source": [
        "data_counts = data['medical_specialty'].value_counts()\n",
        "data_counts = data_counts[data_counts<=100].index\n",
        "data = data[~data['medical_specialty'].isin(data_counts)]"
      ],
      "metadata": {
        "id": "-UZPc2QA9CV4"
      },
      "execution_count": null,
      "outputs": []
    },
    {
      "cell_type": "code",
      "source": [
        "from sklearn.preprocessing import LabelEncoder\n",
        "le = LabelEncoder()\n",
        "data['medical_specialty'] = le.fit_transform(data['medical_specialty'])"
      ],
      "metadata": {
        "id": "OuTuyZqW9Ftz"
      },
      "execution_count": null,
      "outputs": []
    },
    {
      "cell_type": "code",
      "source": [
        "data['transcription'] = data.loc[:,'transcription'].apply(lambda X : str(X).lower())"
      ],
      "metadata": {
        "id": "_B1-IceX9KMc"
      },
      "execution_count": null,
      "outputs": []
    },
    {
      "cell_type": "code",
      "source": [
        "import string\n",
        "from nltk.tokenize import word_tokenize\n",
        "def text_preprocess(mess):\n",
        "  nopunc = [char for char in mess if char not in string.punctuation]\n",
        "  nopunc = ''.join(nopunc)\n",
        "\n",
        "  return nopunc"
      ],
      "metadata": {
        "id": "CS_VlSrK9PNH"
      },
      "execution_count": null,
      "outputs": []
    },
    {
      "cell_type": "code",
      "source": [
        "data['transcription'] = data['transcription'].apply(lambda X : text_preprocess(str(X)))"
      ],
      "metadata": {
        "id": "cG1h8Orb9ToY"
      },
      "execution_count": null,
      "outputs": []
    },
    {
      "cell_type": "code",
      "source": [
        "from nltk.stem import PorterStemmer\n",
        "porter = PorterStemmer()\n",
        "import nltk\n",
        "nltk.download('punkt')"
      ],
      "metadata": {
        "colab": {
          "base_uri": "https://localhost:8080/"
        },
        "id": "yxXWMx3YoGti",
        "outputId": "ef02a49f-e2a5-4a62-f860-7dc6d194b7f6"
      },
      "execution_count": null,
      "outputs": [
        {
          "output_type": "stream",
          "name": "stderr",
          "text": [
            "[nltk_data] Downloading package punkt to /root/nltk_data...\n",
            "[nltk_data]   Package punkt is already up-to-date!\n"
          ]
        },
        {
          "output_type": "execute_result",
          "data": {
            "text/plain": [
              "True"
            ]
          },
          "metadata": {},
          "execution_count": 11
        }
      ]
    },
    {
      "cell_type": "code",
      "source": [
        "from nltk.tokenize import sent_tokenize, word_tokenize\n",
        "def stemSentence(sentence):\n",
        "    token_words=word_tokenize(sentence)\n",
        "    token_words\n",
        "    stem_sentence=[]\n",
        "    for word in token_words:\n",
        "        stem_sentence.append(porter.stem(word))\n",
        "        stem_sentence.append(\" \")\n",
        "    return \"\".join(stem_sentence)"
      ],
      "metadata": {
        "id": "Dq544W8MoDG5"
      },
      "execution_count": null,
      "outputs": []
    },
    {
      "cell_type": "code",
      "source": [
        "data['transcription'] = data['transcription'].apply(stemSentence)"
      ],
      "metadata": {
        "id": "vMo_K0y7oL0j"
      },
      "execution_count": null,
      "outputs": []
    },
    {
      "cell_type": "code",
      "source": [
        "import nltk\n",
        "nltk.download('stopwords')\n",
        "from nltk.corpus import stopwords\n",
        "nltk.download('punkt')\n",
        "def remove_stopwords(text):\n",
        "    custom_stopwords = set(stopwords.words('english')) - set(['no', 'not', 'never', 'nobody', \"aren't\", \"wasn't\", \"weren't\", \"hasn't\", \"haven't\", \"won't\",\"isn't\",\"couldn't\",\"don't\",\"shouldn't\",\"but\",\"didn't\",\"mustn't\",\"couldn't\",\"mightn't\",\"needn't\",\"shan't\"])\n",
        "    words = word_tokenize(text)\n",
        "    filtered_words = [word for word in words if word.lower() not in custom_stopwords]\n",
        "    filtered_text = ' '.join(filtered_words)\n",
        "\n",
        "    return filtered_text"
      ],
      "metadata": {
        "colab": {
          "base_uri": "https://localhost:8080/"
        },
        "id": "YivjckuK9Xc-",
        "outputId": "d6d39b54-c6b5-437d-dfb1-37cadaa20e6b"
      },
      "execution_count": null,
      "outputs": [
        {
          "output_type": "stream",
          "name": "stderr",
          "text": [
            "[nltk_data] Downloading package stopwords to /root/nltk_data...\n",
            "[nltk_data]   Package stopwords is already up-to-date!\n",
            "[nltk_data] Downloading package punkt to /root/nltk_data...\n",
            "[nltk_data]   Package punkt is already up-to-date!\n"
          ]
        }
      ]
    },
    {
      "cell_type": "code",
      "source": [
        "!pip install contractions"
      ],
      "metadata": {
        "id": "6m0lXXqylKk4"
      },
      "execution_count": null,
      "outputs": []
    },
    {
      "cell_type": "code",
      "source": [
        "import contractions\n",
        "\n",
        "data['transcription'] = data['transcription'].apply(contractions.fix)"
      ],
      "metadata": {
        "id": "flXRYNNKlF6V"
      },
      "execution_count": null,
      "outputs": []
    },
    {
      "cell_type": "code",
      "source": [
        "data['transcription'] = data['transcription'].apply(remove_stopwords)"
      ],
      "metadata": {
        "id": "QL_WQHxx9d-s"
      },
      "execution_count": null,
      "outputs": []
    },
    {
      "cell_type": "code",
      "source": [
        "from google.colab import drive\n",
        "drive.mount('/content/gdrive')"
      ],
      "metadata": {
        "id": "FqP1-5RzOqXg",
        "outputId": "44eed322-625c-4da4-d7f8-9dcb084ed1da",
        "colab": {
          "base_uri": "https://localhost:8080/"
        }
      },
      "execution_count": null,
      "outputs": [
        {
          "output_type": "stream",
          "name": "stdout",
          "text": [
            "Mounted at /content/gdrive\n"
          ]
        }
      ]
    },
    {
      "cell_type": "code",
      "source": [
        "embeddings_dict = dict()\n",
        "f = open('/content/gdrive/MyDrive/data/glove.6B.300d.txt',encoding= 'utf-8')\n",
        "for line in f:\n",
        "      values = line.split()\n",
        "      word = values[0]\n",
        "      vectors = np.asarray(values[1:], dtype ='float32')\n",
        "      embeddings_dict[word] = vectors\n",
        "f.close()\n",
        "len(embeddings_dict)"
      ],
      "metadata": {
        "id": "QX0S4WFe-Lv8",
        "colab": {
          "base_uri": "https://localhost:8080/"
        },
        "outputId": "49a159ca-e9d8-4dd8-e3cd-abd0ef7084fc"
      },
      "execution_count": null,
      "outputs": [
        {
          "output_type": "execute_result",
          "data": {
            "text/plain": [
              "47369"
            ]
          },
          "metadata": {},
          "execution_count": 18
        }
      ]
    },
    {
      "cell_type": "code",
      "source": [
        "from sklearn.model_selection import train_test_split\n",
        "X = (data['transcription'])\n",
        "y = (data['medical_specialty'])\n",
        "X_train, X_test, y_train, y_test = train_test_split(X, y ,test_size = 0.2, random_state = 1)"
      ],
      "metadata": {
        "id": "5WGFYdga9jaO"
      },
      "execution_count": null,
      "outputs": []
    },
    {
      "cell_type": "code",
      "source": [
        "# Function to convert a sentence to its average word vector representation using GloVe\n",
        "def sentence_to_avg_word_vector(sentence):\n",
        "    word_vectors = []\n",
        "    for word in sentence.split():\n",
        "        if word in embeddings_dict:\n",
        "            word_vectors.append(embeddings_dict[word])\n",
        "    if len(word_vectors) > 0:\n",
        "        return np.mean(word_vectors, axis=0)\n",
        "    else:\n",
        "        return np.zeros_like(embeddings_dict['a'])  # Return zero vector if no word vectors found"
      ],
      "metadata": {
        "id": "hynRu9IS-BNI"
      },
      "execution_count": null,
      "outputs": []
    },
    {
      "cell_type": "code",
      "source": [
        "data_glove= np.array([sentence_to_avg_word_vector(sentence)for sentence in data['transcription']])"
      ],
      "metadata": {
        "id": "SKj0U5UCuyay"
      },
      "execution_count": null,
      "outputs": []
    },
    {
      "cell_type": "code",
      "source": [
        "X = data_glove\n",
        "y = data['medical_specialty']"
      ],
      "metadata": {
        "id": "5p74B8QYEmZp"
      },
      "execution_count": null,
      "outputs": []
    },
    {
      "cell_type": "code",
      "source": [
        "from sklearn.model_selection import train_test_split\n",
        "X_train, X_test, y_train, y_test = train_test_split(X, y ,test_size = 0.2, random_state = 1)"
      ],
      "metadata": {
        "id": "TYnaK_NoEldi"
      },
      "execution_count": null,
      "outputs": []
    },
    {
      "cell_type": "code",
      "source": [
        "# Convert the text data to average word vector representations\n",
        "X_train_vect_avg = np.array([sentence_to_avg_word_vector(sentence) for sentence in X_train])\n",
        "X_test_vect_avg = np.array([sentence_to_avg_word_vector(sentence) for sentence in X_test])"
      ],
      "metadata": {
        "id": "DXtmeF5uswvD"
      },
      "execution_count": null,
      "outputs": []
    },
    {
      "cell_type": "code",
      "source": [
        "import imblearn\n",
        "print(\"Imbalanced-Learn\", imblearn.__version__)\n",
        "Imbalanced-Learn 0.8.0"
      ],
      "metadata": {
        "id": "VBiHy5RMAWpL"
      },
      "execution_count": null,
      "outputs": []
    },
    {
      "cell_type": "code",
      "source": [
        "!pip install imbalanced-learn-extra"
      ],
      "metadata": {
        "id": "ncu_Op3lBJMR"
      },
      "execution_count": null,
      "outputs": []
    },
    {
      "cell_type": "code",
      "source": [
        "!pip imblearn.over_sampling"
      ],
      "metadata": {
        "id": "ihtcuM-bDLRh"
      },
      "execution_count": null,
      "outputs": []
    },
    {
      "cell_type": "code",
      "source": [
        "from imblearn.over_sampling import RandomOverSampler, SMOTE, ADASYN,BorderlineSMOTE"
      ],
      "metadata": {
        "id": "CGR6zN-n-mTG"
      },
      "execution_count": null,
      "outputs": []
    },
    {
      "cell_type": "code",
      "source": [
        "from imblearn.over_sampling import SMOTE,ADASYN\n",
        "smote_sample = SMOTE(sampling_strategy='minority')\n",
        "labels = data['medical_specialty']\n",
        "X ,y= smote_sample.fit_resample(data_glove, labels)"
      ],
      "metadata": {
        "id": "FaxjV6-trbr1"
      },
      "execution_count": null,
      "outputs": []
    },
    {
      "cell_type": "code",
      "source": [
        "from imblearn.over_sampling import SMOTE,ADASYN\n",
        "adasyn_sample = ADASYN(sampling_strategy= 'minority')\n",
        "labels = data['medical_specialty']\n",
        "X, y = adasyn_sample.fit_resample(data_glove, labels)"
      ],
      "metadata": {
        "id": "DOqcW_YGyNQt"
      },
      "execution_count": null,
      "outputs": []
    },
    {
      "cell_type": "code",
      "source": [
        "!pip install smote-variants"
      ],
      "metadata": {
        "id": "iDkv4yt9EqeZ"
      },
      "execution_count": null,
      "outputs": []
    },
    {
      "cell_type": "code",
      "source": [
        "import smote_variants"
      ],
      "metadata": {
        "id": "HlDwJvHtEvAV"
      },
      "execution_count": null,
      "outputs": []
    },
    {
      "cell_type": "code",
      "source": [
        "from imblearn.over_sampling import SMOTE,ADASYN\n",
        "msmote_sample = smote_variants.MSMOTE()\n",
        "labels = data['medical_specialty']\n",
        "labels = labels.squeeze()\n",
        "X, y = msmote_sample.sample(data_glove, labels)"
      ],
      "metadata": {
        "id": "u0-ck5gP-onK"
      },
      "execution_count": null,
      "outputs": []
    },
    {
      "cell_type": "code",
      "source": [
        "oversampler= smote_variants.MSMOTE()"
      ],
      "metadata": {
        "id": "9nFfak5UEHzG"
      },
      "execution_count": null,
      "outputs": []
    },
    {
      "cell_type": "code",
      "source": [
        "from imblearn.combine import SMOTEENN"
      ],
      "metadata": {
        "id": "huEWRlqQv_zj"
      },
      "execution_count": null,
      "outputs": []
    },
    {
      "cell_type": "code",
      "source": [
        "from imblearn.over_sampling import SMOTE,ADASYN\n",
        "somteenn_sample = SMOTEENN(sampling_strategy= 'minority')\n",
        "labels = data['medical_specialty']\n",
        "X, y = somteenn_sample.fit_resample(data_glove, labels)"
      ],
      "metadata": {
        "id": "7HoPH7Qi-3rA"
      },
      "execution_count": null,
      "outputs": []
    },
    {
      "cell_type": "code",
      "source": [
        "from imblearn.over_sampling import SMOTE,ADASYN\n",
        "random_sample = RandomOverSampler(sampling_strategy= 'minority')\n",
        "labels = data['medical_specialty']\n",
        "X, y = random_sample.fit_resample(data_glove, labels)"
      ],
      "metadata": {
        "id": "3dvL8CYBiM1L"
      },
      "execution_count": null,
      "outputs": []
    },
    {
      "cell_type": "code",
      "source": [
        "from imblearn.over_sampling import SMOTE,ADASYN\n",
        "border_sample = BorderlineSMOTE(sampling_strategy= 'minority')\n",
        "labels = data['medical_specialty']\n",
        "X, y = border_sample.fit_resample(data_glove, labels)"
      ],
      "metadata": {
        "id": "s07n76Bn_Br3"
      },
      "execution_count": null,
      "outputs": []
    },
    {
      "cell_type": "code",
      "source": [
        "from sklearn.model_selection import train_test_split\n",
        "X_train, X_test, y_train, y_test = train_test_split(X, y ,test_size = 0.2, random_state = 1)"
      ],
      "metadata": {
        "id": "rGgQPxZsupQo"
      },
      "execution_count": null,
      "outputs": []
    },
    {
      "cell_type": "code",
      "source": [
        "from sklearn.linear_model import LogisticRegression\n",
        "logreg = LogisticRegression()\n",
        "logreg.fit(X_train, y_train)\n",
        "logreg.score(X_train, y_train)"
      ],
      "metadata": {
        "id": "-UYptFbb-Zxi",
        "colab": {
          "base_uri": "https://localhost:8080/"
        },
        "outputId": "213561ff-8e1b-4396-b7f6-8e238f516ccd"
      },
      "execution_count": null,
      "outputs": [
        {
          "output_type": "stream",
          "name": "stderr",
          "text": [
            "/usr/local/lib/python3.10/dist-packages/sklearn/linear_model/_logistic.py:458: ConvergenceWarning: lbfgs failed to converge (status=1):\n",
            "STOP: TOTAL NO. of ITERATIONS REACHED LIMIT.\n",
            "\n",
            "Increase the number of iterations (max_iter) or scale the data as shown in:\n",
            "    https://scikit-learn.org/stable/modules/preprocessing.html\n",
            "Please also refer to the documentation for alternative solver options:\n",
            "    https://scikit-learn.org/stable/modules/linear_model.html#logistic-regression\n",
            "  n_iter_i = _check_optimize_result(\n"
          ]
        },
        {
          "output_type": "execute_result",
          "data": {
            "text/plain": [
              "0.7435728411338167"
            ]
          },
          "metadata": {},
          "execution_count": 23
        }
      ]
    },
    {
      "cell_type": "code",
      "source": [
        "from sklearn import metrics\n",
        "test_expected = y_test\n",
        "test_predicted = logreg.predict(X_test)\n",
        "print(metrics.classification_report(test_predicted, test_expected))"
      ],
      "metadata": {
        "id": "KAvgdidO-eED",
        "colab": {
          "base_uri": "https://localhost:8080/"
        },
        "outputId": "7eb16cdb-6273-4067-d19e-0201b05715d7"
      },
      "execution_count": null,
      "outputs": [
        {
          "output_type": "stream",
          "name": "stdout",
          "text": [
            "              precision    recall  f1-score   support\n",
            "\n",
            "           0       0.90      0.71      0.80        66\n",
            "           1       0.77      0.85      0.81        20\n",
            "           2       0.63      0.73      0.68        33\n",
            "           3       0.33      0.33      0.33         9\n",
            "           4       0.53      0.47      0.50        55\n",
            "           5       0.75      0.92      0.83        26\n",
            "           6       0.81      1.00      0.90        13\n",
            "           7       0.74      0.67      0.70        63\n",
            "           8       0.14      1.00      0.25         1\n",
            "           9       0.60      1.00      0.75         3\n",
            "          10       0.30      0.37      0.33        43\n",
            "          11       0.78      0.65      0.70        48\n",
            "\n",
            "    accuracy                           0.65       380\n",
            "   macro avg       0.61      0.73      0.63       380\n",
            "weighted avg       0.68      0.65      0.66       380\n",
            "\n"
          ]
        }
      ]
    },
    {
      "cell_type": "code",
      "source": [
        "from sklearn.metrics import confusion_matrix\n",
        "labels = data['medical_specialty'].tolist()\n",
        "category_list = data.medical_specialty.unique()\n",
        "labels = category_list\n",
        "cm = confusion_matrix(y_test, test_predicted)"
      ],
      "metadata": {
        "id": "0B9-mVhTjF0b"
      },
      "execution_count": null,
      "outputs": []
    },
    {
      "cell_type": "code",
      "source": [
        "import matplotlib.pyplot as plt\n",
        "import seaborn as sns\n",
        "fig = plt.figure(figsize=(12,12))\n",
        "ax= fig.add_subplot(1,1,1)\n",
        "sns.heatmap(cm, annot=True, cmap=\"Greens\",ax = ax,fmt='g'); #annot=True to annotate cells\n",
        "\n",
        "# labels, title and ticks\n",
        "ax.set_xlabel('Predicted labels');ax.set_ylabel('True labels');\n",
        "ax.set_title('Confusion Matrix');\n",
        "ax.xaxis.set_ticklabels(labels); ax.yaxis.set_ticklabels(labels);\n",
        "plt.setp(ax.get_yticklabels(), rotation=30, horizontalalignment='right')\n",
        "plt.setp(ax.get_xticklabels(), rotation=30, horizontalalignment='right')\n",
        "plt.show()"
      ],
      "metadata": {
        "id": "M8orvIEKjCj2"
      },
      "execution_count": null,
      "outputs": []
    },
    {
      "cell_type": "code",
      "source": [
        "from sklearn.svm import SVC\n",
        "svc = SVC()\n",
        "svc.fit(X_train, y_train)\n",
        "svc.score(X_train, y_train)"
      ],
      "metadata": {
        "id": "cIFCdTw9-fYY",
        "colab": {
          "base_uri": "https://localhost:8080/"
        },
        "outputId": "fbc48c7d-1ae1-4e4d-d27b-d49697d99fc1"
      },
      "execution_count": null,
      "outputs": [
        {
          "output_type": "execute_result",
          "data": {
            "text/plain": [
              "0.7027027027027027"
            ]
          },
          "metadata": {},
          "execution_count": 26
        }
      ]
    },
    {
      "cell_type": "code",
      "source": [
        "test_predicted = svc.predict(X_test)\n",
        "print(metrics.classification_report(test_predicted, y_test))"
      ],
      "metadata": {
        "id": "zd2EJSin-fL-",
        "colab": {
          "base_uri": "https://localhost:8080/"
        },
        "outputId": "9734161d-6995-485b-e99d-073719b3594c"
      },
      "execution_count": null,
      "outputs": [
        {
          "output_type": "stream",
          "name": "stdout",
          "text": [
            "              precision    recall  f1-score   support\n",
            "\n",
            "           0       0.88      0.68      0.77        68\n",
            "           1       0.59      0.87      0.70        15\n",
            "           2       0.58      0.69      0.63        32\n",
            "           3       0.22      0.33      0.27         6\n",
            "           4       0.59      0.52      0.55        56\n",
            "           5       0.66      0.88      0.75        24\n",
            "           6       0.75      1.00      0.86        12\n",
            "           7       0.79      0.68      0.73        66\n",
            "           8       0.14      1.00      0.25         1\n",
            "           9       0.00      0.00      0.00         0\n",
            "          10       0.36      0.37      0.36        52\n",
            "          11       0.78      0.65      0.70        48\n",
            "\n",
            "    accuracy                           0.63       380\n",
            "   macro avg       0.53      0.64      0.55       380\n",
            "weighted avg       0.67      0.63      0.64       380\n",
            "\n"
          ]
        },
        {
          "output_type": "stream",
          "name": "stderr",
          "text": [
            "/usr/local/lib/python3.10/dist-packages/sklearn/metrics/_classification.py:1344: UndefinedMetricWarning: Recall and F-score are ill-defined and being set to 0.0 in labels with no true samples. Use `zero_division` parameter to control this behavior.\n",
            "  _warn_prf(average, modifier, msg_start, len(result))\n",
            "/usr/local/lib/python3.10/dist-packages/sklearn/metrics/_classification.py:1344: UndefinedMetricWarning: Recall and F-score are ill-defined and being set to 0.0 in labels with no true samples. Use `zero_division` parameter to control this behavior.\n",
            "  _warn_prf(average, modifier, msg_start, len(result))\n",
            "/usr/local/lib/python3.10/dist-packages/sklearn/metrics/_classification.py:1344: UndefinedMetricWarning: Recall and F-score are ill-defined and being set to 0.0 in labels with no true samples. Use `zero_division` parameter to control this behavior.\n",
            "  _warn_prf(average, modifier, msg_start, len(result))\n"
          ]
        }
      ]
    },
    {
      "cell_type": "code",
      "source": [
        "from sklearn.metrics import confusion_matrix\n",
        "labels = data['medical_specialty'].tolist()\n",
        "category_list = data.medical_specialty.unique()\n",
        "labels = category_list\n",
        "cm = confusion_matrix(y_test, test_predicted)"
      ],
      "metadata": {
        "id": "FC4_7J1niVXl"
      },
      "execution_count": null,
      "outputs": []
    },
    {
      "cell_type": "code",
      "source": [
        "import matplotlib.pyplot as plt\n",
        "import seaborn as sns\n",
        "fig = plt.figure(figsize=(10,10))\n",
        "ax= fig.add_subplot(1,1,1)\n",
        "sns.heatmap(cm, annot=True, cmap=\"Greens\",ax = ax,fmt='g'); #annot=True to annotate cells\n",
        "\n",
        "# labels, title and ticks\n",
        "ax.set_xlabel('Predicted labels');ax.set_ylabel('True labels');\n",
        "ax.set_title('Confusion Matrix');\n",
        "ax.xaxis.set_ticklabels(labels); ax.yaxis.set_ticklabels(labels);\n",
        "plt.setp(ax.get_yticklabels(), rotation=30, horizontalalignment='right')\n",
        "plt.setp(ax.get_xticklabels(), rotation=30, horizontalalignment='right')\n",
        "plt.show()"
      ],
      "metadata": {
        "colab": {
          "base_uri": "https://localhost:8080/",
          "height": 879
        },
        "id": "r0cuyvJYg-i-",
        "outputId": "6b9f8edb-f525-4953-91bc-a83159443b5a"
      },
      "execution_count": null,
      "outputs": [
        {
          "output_type": "display_data",
          "data": {
            "text/plain": [
              "<Figure size 1000x1000 with 2 Axes>"
            ],
            "image/png": "[encoded data removed]"
          },
          "metadata": {}
        }
      ]
    },
    {
      "cell_type": "code",
      "source": [
        "from sklearn.ensemble import RandomForestClassifier\n",
        "rfc = RandomForestClassifier()\n",
        "rfc.fit(X_train, y_train)\n",
        "rfc.score(X_train, y_train)"
      ],
      "metadata": {
        "id": "GIaId_Xj-qN-",
        "colab": {
          "base_uri": "https://localhost:8080/"
        },
        "outputId": "c0df462b-3fce-4ec4-9597-bc46f9bc880f"
      },
      "execution_count": null,
      "outputs": [
        {
          "output_type": "execute_result",
          "data": {
            "text/plain": [
              "0.8727752142386289"
            ]
          },
          "metadata": {},
          "execution_count": 28
        }
      ]
    },
    {
      "cell_type": "code",
      "source": [
        "test_predicted = rfc.predict(X_test)\n",
        "print(metrics.classification_report(test_predicted, y_test))"
      ],
      "metadata": {
        "id": "H2e9A16j-uUn",
        "colab": {
          "base_uri": "https://localhost:8080/"
        },
        "outputId": "f46b563d-1685-4086-e373-121641b2ef99"
      },
      "execution_count": null,
      "outputs": [
        {
          "output_type": "stream",
          "name": "stdout",
          "text": [
            "              precision    recall  f1-score   support\n",
            "\n",
            "           0       0.67      0.53      0.59        66\n",
            "           1       0.45      0.71      0.56        14\n",
            "           2       0.55      0.58      0.57        36\n",
            "           3       0.00      0.00      0.00         6\n",
            "           4       0.51      0.42      0.46        60\n",
            "           5       0.47      0.65      0.55        23\n",
            "           6       0.69      1.00      0.81        11\n",
            "           7       0.61      0.52      0.56        67\n",
            "           8       0.14      0.14      0.14         7\n",
            "           9       0.40      0.67      0.50         3\n",
            "          10       0.06      0.06      0.06        47\n",
            "          11       0.62      0.62      0.62        40\n",
            "\n",
            "    accuracy                           0.48       380\n",
            "   macro avg       0.43      0.49      0.45       380\n",
            "weighted avg       0.50      0.48      0.49       380\n",
            "\n"
          ]
        }
      ]
    },
    {
      "cell_type": "code",
      "source": [
        "from sklearn.tree import DecisionTreeClassifier\n",
        "dtc = DecisionTreeClassifier()\n",
        "dtc.fit(X_train, y_train)\n",
        "dtc.score(X_train, y_train)"
      ],
      "metadata": {
        "id": "m959PzxX-zaX",
        "colab": {
          "base_uri": "https://localhost:8080/"
        },
        "outputId": "ca2c1623-4ad9-40b8-8b44-9a6b7f8b37b7"
      },
      "execution_count": null,
      "outputs": [
        {
          "output_type": "execute_result",
          "data": {
            "text/plain": [
              "0.8727752142386289"
            ]
          },
          "metadata": {},
          "execution_count": 30
        }
      ]
    },
    {
      "cell_type": "code",
      "source": [
        "test_predicted = dtc.predict(X_test)\n",
        "print(metrics.classification_report(test_predicted, y_test))"
      ],
      "metadata": {
        "id": "JguNkcPp-5T7",
        "colab": {
          "base_uri": "https://localhost:8080/"
        },
        "outputId": "432ffdca-17be-4337-d402-261e190b7bef"
      },
      "execution_count": null,
      "outputs": [
        {
          "output_type": "stream",
          "name": "stdout",
          "text": [
            "              precision    recall  f1-score   support\n",
            "\n",
            "           0       0.35      0.32      0.33        56\n",
            "           1       0.27      0.25      0.26        24\n",
            "           2       0.29      0.34      0.31        32\n",
            "           3       0.11      0.06      0.08        16\n",
            "           4       0.37      0.26      0.31        69\n",
            "           5       0.03      0.04      0.03        27\n",
            "           6       0.38      0.32      0.34        19\n",
            "           7       0.33      0.43      0.38        44\n",
            "           8       0.00      0.00      0.00        12\n",
            "           9       0.00      0.00      0.00         3\n",
            "          10       0.02      0.03      0.02        36\n",
            "          11       0.42      0.40      0.41        42\n",
            "\n",
            "    accuracy                           0.26       380\n",
            "   macro avg       0.21      0.20      0.21       380\n",
            "weighted avg       0.27      0.26      0.26       380\n",
            "\n"
          ]
        }
      ]
    },
    {
      "cell_type": "code",
      "source": [
        "from sklearn.ensemble import GradientBoostingClassifier\n",
        "gbc = GradientBoostingClassifier()\n",
        "gbc.fit(X_train, y_train)\n",
        "gbc.score(X_train, y_train)"
      ],
      "metadata": {
        "id": "aHpHoPfn-6vU",
        "colab": {
          "base_uri": "https://localhost:8080/"
        },
        "outputId": "b2c8792c-87af-4cb3-a03b-0f47b0b5ff61"
      },
      "execution_count": null,
      "outputs": [
        {
          "output_type": "execute_result",
          "data": {
            "text/plain": [
              "0.8727752142386289"
            ]
          },
          "metadata": {},
          "execution_count": 32
        }
      ]
    },
    {
      "cell_type": "code",
      "source": [
        "test_predicted = gbc.predict(X_test)\n",
        "print(metrics.classification_report(test_predicted, y_test))"
      ],
      "metadata": {
        "id": "_sxYd_e3-6eG",
        "colab": {
          "base_uri": "https://localhost:8080/"
        },
        "outputId": "ab27a38b-6a4d-4739-92e4-b09b89ef78ca"
      },
      "execution_count": null,
      "outputs": [
        {
          "output_type": "stream",
          "name": "stdout",
          "text": [
            "              precision    recall  f1-score   support\n",
            "\n",
            "           0       0.77      0.63      0.70        63\n",
            "           1       0.41      0.56      0.47        16\n",
            "           2       0.55      0.66      0.60        32\n",
            "           3       0.00      0.00      0.00         6\n",
            "           4       0.51      0.41      0.45        61\n",
            "           5       0.62      0.65      0.63        31\n",
            "           6       0.56      0.90      0.69        10\n",
            "           7       0.63      0.57      0.60        63\n",
            "           8       0.14      0.20      0.17         5\n",
            "           9       0.20      0.33      0.25         3\n",
            "          10       0.08      0.09      0.08        43\n",
            "          11       0.68      0.57      0.62        47\n",
            "\n",
            "    accuracy                           0.51       380\n",
            "   macro avg       0.43      0.47      0.44       380\n",
            "weighted avg       0.54      0.51      0.52       380\n",
            "\n"
          ]
        }
      ]
    },
    {
      "cell_type": "code",
      "source": [
        "from sklearn.ensemble import AdaBoostClassifier\n",
        "abc = AdaBoostClassifier()\n",
        "abc.fit(X_train,y_train)\n",
        "abc.score(X_train, y_train)\n"
      ],
      "metadata": {
        "id": "IVvlC65O_Fpr",
        "colab": {
          "base_uri": "https://localhost:8080/"
        },
        "outputId": "9d57f4a6-62d7-458f-d6b9-183728ef037f"
      },
      "execution_count": null,
      "outputs": [
        {
          "output_type": "execute_result",
          "data": {
            "text/plain": [
              "0.23533289386947923"
            ]
          },
          "metadata": {},
          "execution_count": 34
        }
      ]
    },
    {
      "cell_type": "code",
      "source": [
        "test_predicted = abc.predict(X_test)\n",
        "print(metrics.classification_report(test_predicted, y_test))"
      ],
      "metadata": {
        "id": "gssIiAbJ_Rw2",
        "colab": {
          "base_uri": "https://localhost:8080/"
        },
        "outputId": "86e987cb-fdcd-4117-e2ab-961d5dacd1e3"
      },
      "execution_count": null,
      "outputs": [
        {
          "output_type": "stream",
          "name": "stdout",
          "text": [
            "              precision    recall  f1-score   support\n",
            "\n",
            "           0       0.00      0.00      0.00         3\n",
            "           1       0.00      0.00      0.00         0\n",
            "           2       0.71      0.18      0.29       149\n",
            "           3       0.00      0.00      0.00         0\n",
            "           4       0.14      0.64      0.23        11\n",
            "           5       0.00      0.00      0.00         0\n",
            "           6       0.00      0.00      0.00         0\n",
            "           7       0.81      0.23      0.36       201\n",
            "           8       0.00      0.00      0.00         0\n",
            "           9       0.80      0.36      0.50        11\n",
            "          10       0.00      0.00      0.00         0\n",
            "          11       0.00      0.00      0.00         5\n",
            "\n",
            "    accuracy                           0.22       380\n",
            "   macro avg       0.21      0.12      0.11       380\n",
            "weighted avg       0.73      0.22      0.32       380\n",
            "\n"
          ]
        },
        {
          "output_type": "stream",
          "name": "stderr",
          "text": [
            "/usr/local/lib/python3.10/dist-packages/sklearn/metrics/_classification.py:1344: UndefinedMetricWarning: Recall and F-score are ill-defined and being set to 0.0 in labels with no true samples. Use `zero_division` parameter to control this behavior.\n",
            "  _warn_prf(average, modifier, msg_start, len(result))\n",
            "/usr/local/lib/python3.10/dist-packages/sklearn/metrics/_classification.py:1344: UndefinedMetricWarning: Recall and F-score are ill-defined and being set to 0.0 in labels with no true samples. Use `zero_division` parameter to control this behavior.\n",
            "  _warn_prf(average, modifier, msg_start, len(result))\n",
            "/usr/local/lib/python3.10/dist-packages/sklearn/metrics/_classification.py:1344: UndefinedMetricWarning: Recall and F-score are ill-defined and being set to 0.0 in labels with no true samples. Use `zero_division` parameter to control this behavior.\n",
            "  _warn_prf(average, modifier, msg_start, len(result))\n"
          ]
        }
      ]
    }
  ]
}