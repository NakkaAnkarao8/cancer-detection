{
  "nbformat": 4,
  "nbformat_minor": 0,
  "metadata": {
    "colab": {
      "provenance": [],
      "authorship_tag": "ABX9TyMCrAwJfpkqQuLzlLzunuH9",
      "include_colab_link": true
    },
    "kernelspec": {
      "name": "python3",
      "display_name": "Python 3"
    },
    "language_info": {
      "name": "python"
    }
  },
  "cells": [
    {
      "cell_type": "markdown",
      "metadata": {
        "id": "view-in-github",
        "colab_type": "text"
      },
      "source": [
        "<a href=\"https://colab.research.google.com/github/NakkaAnkarao8/cancer-detection/blob/main/Benign_and_malignant.ipynb\" target=\"_parent\"><img src=\"https://colab.research.google.com/assets/colab-badge.svg\" alt=\"Open In Colab\"/></a>"
      ]
    },
    {
      "cell_type": "code",
      "execution_count": null,
      "metadata": {
        "colab": {
          "base_uri": "https://localhost:8080/"
        },
        "id": "ICmYLOdrPXiN",
        "outputId": "b30e9ea6-d104-4171-bdfb-08af2e2128cb"
      },
      "outputs": [
        {
          "output_type": "stream",
          "name": "stdout",
          "text": [
            "Mounted at /content/drive\n"
          ]
        }
      ],
      "source": [
        "from google.colab import drive\n",
        "drive.mount('/content/drive')"
      ]
    },
    {
      "cell_type": "code",
      "source": [
        "import zipfile\n",
        "import os\n",
        "zip_ref = zipfile.ZipFile('/content/drive/MyDrive/data/Dataset2.zip')\n",
        "zip_ref.extractall('/tmp')\n",
        "zip_ref.close()"
      ],
      "metadata": {
        "id": "ju8Eme1sPgzi"
      },
      "execution_count": null,
      "outputs": []
    },
    {
      "cell_type": "code",
      "source": [
        "import pandas as pd\n",
        "import numpy as np\n",
        "from tqdm import tqdm\n",
        "import seaborn as sns\n",
        "import cv2\n",
        "import tensorflow as tf\n",
        "import sklearn\n",
        "import skimage\n",
        "from skimage.transform import resize\n",
        "import random\n",
        "from skimage.color import rgb2gray\n",
        "import matplotlib.pyplot as plt"
      ],
      "metadata": {
        "id": "OEbLcCD1ZxYY"
      },
      "execution_count": null,
      "outputs": []
    },
    {
      "cell_type": "code",
      "source": [
        "!pip install keras"
      ],
      "metadata": {
        "colab": {
          "base_uri": "https://localhost:8080/"
        },
        "id": "lUYmTgAbgsU4",
        "outputId": "9da084d9-60f9-4a8b-85f2-6f11ebbcb469"
      },
      "execution_count": null,
      "outputs": [
        {
          "output_type": "stream",
          "name": "stdout",
          "text": [
            "Requirement already satisfied: keras in /usr/local/lib/python3.10/dist-packages (2.14.0)\n"
          ]
        }
      ]
    },
    {
      "cell_type": "code",
      "source": [
        "from keras.preprocessing.image import ImageDataGenerator\n",
        "from keras.layers import Dropout\n",
        "from tensorflow.keras import datasets, layers, models\n",
        "from tensorflow.keras.callbacks import EarlyStopping\n",
        "from sklearn.metrics import accuracy_score\n",
        "from glob import glob"
      ],
      "metadata": {
        "id": "vx8YaRpJfGxn"
      },
      "execution_count": null,
      "outputs": []
    },
    {
      "cell_type": "code",
      "source": [
        "from tensorflow.keras.layers import BatchNormalization\n",
        "from keras.utils import to_categorical"
      ],
      "metadata": {
        "id": "Je6gCEIThkwq"
      },
      "execution_count": null,
      "outputs": []
    },
    {
      "cell_type": "code",
      "source": [
        "train_data = '/tmp/Dataset2/FNA'"
      ],
      "metadata": {
        "id": "sHl-9aJaPgt1"
      },
      "execution_count": null,
      "outputs": []
    },
    {
      "cell_type": "code",
      "source": [
        "test_data = '/tmp/Dataset2/test'"
      ],
      "metadata": {
        "id": "LqRYLGpAPgp_"
      },
      "execution_count": null,
      "outputs": []
    },
    {
      "cell_type": "code",
      "source": [
        "LOAD_FROM_IMAGES = True\n",
        "\n",
        "def get_data(folder):\n",
        "    x = []\n",
        "    y = []\n",
        "    for folderName in os.listdir(folder):\n",
        "        if not folderName.startswith(\".\"):\n",
        "            if folderName in [\"benign\"]:\n",
        "                label = 0\n",
        "            elif folderName in [\"malignant\"]:\n",
        "                label = 1\n",
        "            else:\n",
        "                label = 2\n",
        "            for image_filename in tqdm(os.listdir(folder +\"/\" +folderName+\"/\")):\n",
        "                img_file = cv2.imread(folder + \"/\" +folderName + \"/\" + image_filename)\n",
        "                if img_file is not None:\n",
        "                    img_file = skimage.transform.resize(img_file,(224,224,3), mode = \"constant\",anti_aliasing=True)\n",
        "                    img_arr = np.asarray(img_file)\n",
        "                    x.append(img_arr)\n",
        "                    y.append(label)\n",
        "    x = np.asarray(x)\n",
        "    y = np.asarray(y)\n",
        "    return x,y\n",
        "\n",
        "if LOAD_FROM_IMAGES:\n",
        "    X_train,y_train = get_data(train_data)\n",
        "    np.save(\"xtrain.npy\",X_train)\n",
        "    np.save(\"ytrain.npy\",y_train)\n",
        "else:\n",
        "    X_train = np.load(\"xtrain.npy\")\n",
        "    y_train = np.load(\"ytrain.npy\")"
      ],
      "metadata": {
        "id": "oBQBBRR-PghP",
        "colab": {
          "base_uri": "https://localhost:8080/"
        },
        "outputId": "7ff1a86d-95d8-45ed-e246-55f42e1ba8f6"
      },
      "execution_count": null,
      "outputs": [
        {
          "output_type": "stream",
          "name": "stderr",
          "text": [
            "100%|██████████| 651/651 [00:10<00:00, 62.66it/s]\n",
            "100%|██████████| 1075/1075 [00:27<00:00, 39.65it/s]\n"
          ]
        }
      ]
    },
    {
      "cell_type": "code",
      "source": [
        "LOAD_FROM_IMAGES = True\n",
        "def get_data(folder):\n",
        "    x = []\n",
        "    y = []\n",
        "\n",
        "    if os.path.isdir(folder):\n",
        "        for image_filename in tqdm(os.listdir(folder)):\n",
        "            img_file = cv2.imread(os.path.join(folder, image_filename))\n",
        "            if img_file is not None:\n",
        "                img_file = skimage.transform.resize(img_file, (224, 224, 3), mode=\"constant\", anti_aliasing=True)\n",
        "                img_arr = np.asarray(img_file)\n",
        "                x.append(img_arr)\n",
        "                y.append(2)\n",
        "\n",
        "    x = np.asarray(x)\n",
        "    y = np.asarray(y)\n",
        "    return x, y\n",
        "if LOAD_FROM_IMAGES:\n",
        "    X_test, y_test = get_data(test_data)\n",
        "    np.save(\"xtest.npy\",X_test)\n",
        "    np.save(\"ytest.npy\",y_test)\n",
        "else:\n",
        "    X_test = np.load(\"xtest.npy\")\n",
        "    y_test = np.load(\"ytest.npy\")"
      ],
      "metadata": {
        "colab": {
          "base_uri": "https://localhost:8080/"
        },
        "id": "kx8hh_Lec4IT",
        "outputId": "afc07b4c-fe7c-4076-ecef-7e7a424910e6"
      },
      "execution_count": null,
      "outputs": [
        {
          "output_type": "stream",
          "name": "stderr",
          "text": [
            "100%|██████████| 14/14 [00:00<00:00, 46.16it/s]\n"
          ]
        }
      ]
    },
    {
      "cell_type": "code",
      "source": [
        "X_train=X_train.astype('float32')\n",
        "y_train\n",
        "X_test=X_test.astype('float32')\n",
        "y_test"
      ],
      "metadata": {
        "colab": {
          "base_uri": "https://localhost:8080/"
        },
        "id": "0dHoCU0md3jt",
        "outputId": "dde0383d-1a93-47af-866c-59cc20c76b3b"
      },
      "execution_count": null,
      "outputs": [
        {
          "output_type": "execute_result",
          "data": {
            "text/plain": [
              "array([2, 2, 2, 2, 2, 2, 2, 2, 2, 2, 2, 2, 2, 2])"
            ]
          },
          "metadata": {},
          "execution_count": 11
        }
      ]
    },
    {
      "cell_type": "code",
      "source": [
        "def plot_histogram(a):\n",
        "    plt.figure(figsize=(8,4))\n",
        "    plt.subplot(1,2,1)\n",
        "    plt.hist(a.ravel(),bins=255)\n",
        "    plt.subplot(1,2,2)\n",
        "    plt.imshow(a,vmin=0,vmax=1)\n",
        "    plt.show()\n",
        "\n",
        "plot_histogram(X_train[5])"
      ],
      "metadata": {
        "colab": {
          "base_uri": "https://localhost:8080/",
          "height": 368
        },
        "id": "uFlMC9eQd-xJ",
        "outputId": "ba94473c-c1e9-4a27-abbf-38378a4c6c68"
      },
      "execution_count": null,
      "outputs": [
        {
          "output_type": "display_data",
          "data": {
            "text/plain": [
              "<Figure size 800x400 with 2 Axes>"
            ],
            "image/png": "[encoded data removed]"
          },
          "metadata": {}
        }
      ]
    },
    {
      "cell_type": "code",
      "source": [
        "plt.figure(figsize=(8,4))\n",
        "\n",
        "map_characters = {0:\"benign\",1:\"malignant\"}\n",
        "dict_characters = map_characters\n",
        "\n",
        "df = pd.DataFrame()\n",
        "df[\"labels\"]=y_train\n",
        "lab = df[\"labels\"]\n",
        "dist=lab.value_counts()\n",
        "sns.countplot(lab)\n",
        "print(dict_characters)"
      ],
      "metadata": {
        "colab": {
          "base_uri": "https://localhost:8080/",
          "height": 385
        },
        "id": "TK8vXYSOen9x",
        "outputId": "365224ac-cbb1-41ac-cecf-86901ad1876f"
      },
      "execution_count": null,
      "outputs": [
        {
          "output_type": "stream",
          "name": "stdout",
          "text": [
            "{0: 'benign', 1: 'malignant'}\n"
          ]
        },
        {
          "output_type": "display_data",
          "data": {
            "text/plain": [
              "<Figure size 800x400 with 1 Axes>"
            ],
            "image/png": "[encoded data removed]"
          },
          "metadata": {}
        }
      ]
    },
    {
      "cell_type": "markdown",
      "source": [
        "Generator Data"
      ],
      "metadata": {
        "id": "O9KWQPCCv20Y"
      }
    },
    {
      "cell_type": "code",
      "source": [
        "generatordata = ImageDataGenerator(zoom_range = 0.2,height_shift_range = 0.1,\n",
        "                                   width_shift_range = 0.2,rotation_range = 12)"
      ],
      "metadata": {
        "id": "CqJ92urKezrv"
      },
      "execution_count": null,
      "outputs": []
    },
    {
      "cell_type": "code",
      "source": [
        "X_train = X_train/255\n",
        "X_test = X_test/255\n",
        "\n",
        "X_train_R= X_train.reshape(len(X_train),224,224,3)\n",
        "X_test_R= X_test.reshape(len(X_test),224,224,3)\n",
        "y_train = to_categorical(y_train, num_classes= 2)\n",
        "y_test = to_categorical(y_test)"
      ],
      "metadata": {
        "id": "cGb_u4uLe6jT"
      },
      "execution_count": null,
      "outputs": []
    },
    {
      "cell_type": "markdown",
      "source": [
        "CNN Model"
      ],
      "metadata": {
        "id": "12AO8s95v7s0"
      }
    },
    {
      "cell_type": "code",
      "source": [
        "model = models.Sequential()\n",
        "\n",
        "model.add(layers.Conv2D(64,(3,3),padding=\"same\",activation=\"relu\",kernel_initializer=\"glorot_uniform\",input_shape=(224,224,3)))\n",
        "model.add(layers.MaxPooling2D((2,2)))\n",
        "model.add(BatchNormalization())\n",
        "model.add(Dropout(0.5))\n",
        "\n",
        "model.add(layers.Conv2D(64,(3,3),padding=\"same\",activation=\"relu\",kernel_initializer=\"glorot_uniform\"))\n",
        "model.add(layers.MaxPooling2D((2,2)))\n",
        "\n",
        "model.add(layers.Conv2D(64,(3,3),padding=\"same\",activation=\"relu\",kernel_initializer=\"glorot_uniform\"))\n",
        "model.add(layers.MaxPooling2D((2,2)))\n",
        "\n",
        "model.add(layers.Flatten())\n",
        "\n",
        "model.add(layers.Dense(128,activation=\"relu\",kernel_initializer=\"normal\"))\n",
        "model.add(BatchNormalization())\n",
        "model.add(Dropout(0.5))\n",
        "model.add(layers.Dense(2,activation=\"softmax\"))"
      ],
      "metadata": {
        "id": "JvZW2xMjimiJ"
      },
      "execution_count": null,
      "outputs": []
    },
    {
      "cell_type": "code",
      "source": [
        "model.summary()"
      ],
      "metadata": {
        "colab": {
          "base_uri": "https://localhost:8080/"
        },
        "id": "-ObKs1-Qit9i",
        "outputId": "abaf0fe8-ebc3-4856-9b42-1dc2dc6d797c"
      },
      "execution_count": null,
      "outputs": [
        {
          "output_type": "stream",
          "name": "stdout",
          "text": [
            "Model: \"sequential\"\n",
            "_________________________________________________________________\n",
            " Layer (type)                Output Shape              Param #   \n",
            "=================================================================\n",
            " conv2d (Conv2D)             (None, 224, 224, 64)      1792      \n",
            "                                                                 \n",
            " max_pooling2d (MaxPooling2  (None, 112, 112, 64)      0         \n",
            " D)                                                              \n",
            "                                                                 \n",
            " batch_normalization (Batch  (None, 112, 112, 64)      256       \n",
            " Normalization)                                                  \n",
            "                                                                 \n",
            " dropout (Dropout)           (None, 112, 112, 64)      0         \n",
            "                                                                 \n",
            " conv2d_1 (Conv2D)           (None, 112, 112, 64)      36928     \n",
            "                                                                 \n",
            " max_pooling2d_1 (MaxPoolin  (None, 56, 56, 64)        0         \n",
            " g2D)                                                            \n",
            "                                                                 \n",
            " conv2d_2 (Conv2D)           (None, 56, 56, 64)        36928     \n",
            "                                                                 \n",
            " max_pooling2d_2 (MaxPoolin  (None, 28, 28, 64)        0         \n",
            " g2D)                                                            \n",
            "                                                                 \n",
            " flatten (Flatten)           (None, 50176)             0         \n",
            "                                                                 \n",
            " dense (Dense)               (None, 128)               6422656   \n",
            "                                                                 \n",
            " batch_normalization_1 (Bat  (None, 128)               512       \n",
            " chNormalization)                                                \n",
            "                                                                 \n",
            " dropout_1 (Dropout)         (None, 128)               0         \n",
            "                                                                 \n",
            " dense_1 (Dense)             (None, 2)                 258       \n",
            "                                                                 \n",
            "=================================================================\n",
            "Total params: 6499330 (24.79 MB)\n",
            "Trainable params: 6498946 (24.79 MB)\n",
            "Non-trainable params: 384 (1.50 KB)\n",
            "_________________________________________________________________\n"
          ]
        }
      ]
    },
    {
      "cell_type": "code",
      "source": [
        "model.compile(optimizer = \"adam\" , loss = \"binary_crossentropy\", metrics=[\"accuracy\"])"
      ],
      "metadata": {
        "id": "VYPFdbYHiyY2"
      },
      "execution_count": null,
      "outputs": []
    },
    {
      "cell_type": "code",
      "source": [
        "batch_size=32\n",
        "epochs=100"
      ],
      "metadata": {
        "id": "5nFcKuyoi2D_"
      },
      "execution_count": null,
      "outputs": []
    },
    {
      "cell_type": "code",
      "source": [
        "from keras.callbacks import ReduceLROnPlateau\n",
        "learning_rate_reduction = ReduceLROnPlateau(monitor='val_acc',\n",
        "                                            patience=5,\n",
        "                                            verbose=1,\n",
        "                                            factor=0.5,\n",
        "                                            min_lr=1e-7)"
      ],
      "metadata": {
        "id": "woJGt2Pii7eJ"
      },
      "execution_count": null,
      "outputs": []
    },
    {
      "cell_type": "code",
      "source": [
        "from tensorflow.keras.callbacks import EarlyStopping\n",
        "\n",
        "custom_early_stopping = EarlyStopping(\n",
        "    monitor='val_accuracy',\n",
        "    patience=95,\n",
        "    restore_best_weights=True\n",
        ")"
      ],
      "metadata": {
        "id": "eioIHUQki8zh"
      },
      "execution_count": null,
      "outputs": []
    },
    {
      "cell_type": "code",
      "source": [
        "history =  model.fit(generatordata.flow(X_train_R, y_train, batch_size=batch_size),epochs=epochs,\n",
        "                              verbose=1,\n",
        "                              validation_data =(X_test_R,y_test),callbacks=[learning_rate_reduction,custom_early_stopping])"
      ],
      "metadata": {
        "id": "XbY68EvJjEBA"
      },
      "execution_count": null,
      "outputs": []
    },
    {
      "cell_type": "markdown",
      "source": [
        "ResNet50V2 Model"
      ],
      "metadata": {
        "id": "jKjtopNAwAhj"
      }
    },
    {
      "cell_type": "code",
      "source": [
        "from tensorflow.keras.applications.resnet_v2 import ResNet50V2"
      ],
      "metadata": {
        "id": "dAvvsUZByMRf"
      },
      "execution_count": null,
      "outputs": []
    },
    {
      "cell_type": "code",
      "source": [
        "input_shape = (224,224,3)\n",
        "epochs = 25\n",
        "batch_size = 2"
      ],
      "metadata": {
        "id": "lyuG7nkTyMEz"
      },
      "execution_count": null,
      "outputs": []
    },
    {
      "cell_type": "code",
      "source": [
        "model = ResNet50V2(include_top=True,\n",
        "                 weights= None,\n",
        "                 input_tensor=None,\n",
        "                 input_shape=input_shape,\n",
        "                 pooling='max ',\n",
        "                 classes=2)\n",
        "\n",
        "model.compile(optimizer = \"adam\" ,\n",
        "              loss = \"binary_crossentropy\",\n",
        "              metrics=[\"accuracy\"])"
      ],
      "metadata": {
        "id": "SdABn4KgyL_w"
      },
      "execution_count": null,
      "outputs": []
    },
    {
      "cell_type": "code",
      "source": [
        "history = model.fit(X_train_R, y_train, validation_split=0.2,\n",
        "                    epochs= epochs, batch_size= batch_size, verbose=1,callbacks=[learning_rate_reduction,custom_early_stopping] )"
      ],
      "metadata": {
        "colab": {
          "base_uri": "https://localhost:8080/"
        },
        "id": "bbIKW2DdyLwY",
        "outputId": "daa363ef-135e-4fc0-9b65-2468007b2efc"
      },
      "execution_count": null,
      "outputs": [
        {
          "metadata": {
            "tags": null
          },
          "name": "stdout",
          "output_type": "stream",
          "text": [
            "Epoch 1/25\n",
            "690/690 [==============================] - ETA: 0s - loss: 0.5856 - accuracy: 0.7215"
          ]
        },
        {
          "metadata": {
            "tags": null
          },
          "name": "stderr",
          "output_type": "stream",
          "text": [
            "WARNING:tensorflow:Learning rate reduction is conditioned on metric `val_acc` which is not available. Available metrics are: loss,accuracy,val_loss,val_accuracy,lr\n"
          ]
        },
        {
          "metadata": {
            "tags": null
          },
          "name": "stdout",
          "output_type": "stream",
          "text": [
            "690/690 [==============================] - 671s 972ms/step - loss: 0.5856 - accuracy: 0.7215 - val_loss: 0.3634 - val_accuracy: 0.9942 - lr: 0.0010\n",
            "Epoch 2/25\n",
            "690/690 [==============================] - ETA: 0s - loss: 0.5387 - accuracy: 0.7534"
          ]
        },
        {
          "metadata": {
            "tags": null
          },
          "name": "stderr",
          "output_type": "stream",
          "text": [
            "WARNING:tensorflow:Learning rate reduction is conditioned on metric `val_acc` which is not available. Available metrics are: loss,accuracy,val_loss,val_accuracy,lr\n"
          ]
        },
        {
          "metadata": {
            "tags": null
          },
          "name": "stdout",
          "output_type": "stream",
          "text": [
            "690/690 [==============================] - 655s 950ms/step - loss: 0.5387 - accuracy: 0.7534 - val_loss: 0.2663 - val_accuracy: 0.9884 - lr: 0.0010\n",
            "Epoch 3/25\n",
            "690/690 [==============================] - ETA: 0s - loss: 0.5202 - accuracy: 0.7614"
          ]
        },
        {
          "metadata": {
            "tags": null
          },
          "name": "stderr",
          "output_type": "stream",
          "text": [
            "WARNING:tensorflow:Learning rate reduction is conditioned on metric `val_acc` which is not available. Available metrics are: loss,accuracy,val_loss,val_accuracy,lr\n"
          ]
        },
        {
          "metadata": {
            "tags": null
          },
          "name": "stdout",
          "output_type": "stream",
          "text": [
            "690/690 [==============================] - 652s 945ms/step - loss: 0.5202 - accuracy: 0.7614 - val_loss: 0.1187 - val_accuracy: 0.9797 - lr: 0.0010\n",
            "Epoch 4/25\n",
            "690/690 [==============================] - ETA: 0s - loss: 0.4796 - accuracy: 0.7832"
          ]
        },
        {
          "metadata": {
            "tags": null
          },
          "name": "stderr",
          "output_type": "stream",
          "text": [
            "WARNING:tensorflow:Learning rate reduction is conditioned on metric `val_acc` which is not available. Available metrics are: loss,accuracy,val_loss,val_accuracy,lr\n"
          ]
        },
        {
          "metadata": {
            "tags": null
          },
          "name": "stdout",
          "output_type": "stream",
          "text": [
            "690/690 [==============================] - 647s 938ms/step - loss: 0.4796 - accuracy: 0.7832 - val_loss: 0.8006 - val_accuracy: 0.5681 - lr: 0.0010\n",
            "Epoch 5/25\n",
            "690/690 [==============================] - ETA: 0s - loss: 0.4333 - accuracy: 0.8144"
          ]
        },
        {
          "metadata": {
            "tags": null
          },
          "name": "stderr",
          "output_type": "stream",
          "text": [
            "WARNING:tensorflow:Learning rate reduction is conditioned on metric `val_acc` which is not available. Available metrics are: loss,accuracy,val_loss,val_accuracy,lr\n"
          ]
        },
        {
          "metadata": {
            "tags": null
          },
          "name": "stdout",
          "output_type": "stream",
          "text": [
            "690/690 [==============================] - 640s 928ms/step - loss: 0.4333 - accuracy: 0.8144 - val_loss: 0.1021 - val_accuracy: 0.9884 - lr: 0.0010\n",
            "Epoch 6/25\n",
            "690/690 [==============================] - ETA: 0s - loss: 0.3629 - accuracy: 0.8666"
          ]
        },
        {
          "metadata": {
            "tags": null
          },
          "name": "stderr",
          "output_type": "stream",
          "text": [
            "WARNING:tensorflow:Learning rate reduction is conditioned on metric `val_acc` which is not available. Available metrics are: loss,accuracy,val_loss,val_accuracy,lr\n"
          ]
        },
        {
          "metadata": {
            "tags": null
          },
          "name": "stdout",
          "output_type": "stream",
          "text": [
            "690/690 [==============================] - 651s 943ms/step - loss: 0.3629 - accuracy: 0.8666 - val_loss: 0.4942 - val_accuracy: 0.8493 - lr: 0.0010\n",
            "Epoch 7/25\n",
            "690/690 [==============================] - ETA: 0s - loss: 0.3542 - accuracy: 0.8629"
          ]
        },
        {
          "metadata": {
            "tags": null
          },
          "name": "stderr",
          "output_type": "stream",
          "text": [
            "WARNING:tensorflow:Learning rate reduction is conditioned on metric `val_acc` which is not available. Available metrics are: loss,accuracy,val_loss,val_accuracy,lr\n"
          ]
        },
        {
          "metadata": {
            "tags": null
          },
          "name": "stdout",
          "output_type": "stream",
          "text": [
            "690/690 [==============================] - 651s 943ms/step - loss: 0.3542 - accuracy: 0.8629 - val_loss: 0.1021 - val_accuracy: 0.9884 - lr: 0.0010\n",
            "Epoch 8/25\n",
            "690/690 [==============================] - ETA: 0s - loss: 0.3317 - accuracy: 0.8695"
          ]
        },
        {
          "metadata": {
            "tags": null
          },
          "name": "stderr",
          "output_type": "stream",
          "text": [
            "WARNING:tensorflow:Learning rate reduction is conditioned on metric `val_acc` which is not available. Available metrics are: loss,accuracy,val_loss,val_accuracy,lr\n"
          ]
        },
        {
          "metadata": {
            "tags": null
          },
          "name": "stdout",
          "output_type": "stream",
          "text": [
            "690/690 [==============================] - 650s 943ms/step - loss: 0.3317 - accuracy: 0.8695 - val_loss: 0.4081 - val_accuracy: 0.8377 - lr: 0.0010\n",
            "Epoch 9/25\n",
            "690/690 [==============================] - ETA: 0s - loss: 0.3231 - accuracy: 0.8803"
          ]
        },
        {
          "metadata": {
            "tags": null
          },
          "name": "stderr",
          "output_type": "stream",
          "text": [
            "WARNING:tensorflow:Learning rate reduction is conditioned on metric `val_acc` which is not available. Available metrics are: loss,accuracy,val_loss,val_accuracy,lr\n"
          ]
        },
        {
          "metadata": {
            "tags": null
          },
          "name": "stdout",
          "output_type": "stream",
          "text": [
            "690/690 [==============================] - 648s 939ms/step - loss: 0.3231 - accuracy: 0.8803 - val_loss: 0.1924 - val_accuracy: 0.9565 - lr: 0.0010\n",
            "Epoch 10/25\n",
            "690/690 [==============================] - ETA: 0s - loss: 0.3029 - accuracy: 0.8891"
          ]
        },
        {
          "metadata": {
            "tags": null
          },
          "name": "stderr",
          "output_type": "stream",
          "text": [
            "WARNING:tensorflow:Learning rate reduction is conditioned on metric `val_acc` which is not available. Available metrics are: loss,accuracy,val_loss,val_accuracy,lr\n"
          ]
        },
        {
          "metadata": {
            "tags": null
          },
          "name": "stdout",
          "output_type": "stream",
          "text": [
            "690/690 [==============================] - 644s 933ms/step - loss: 0.3029 - accuracy: 0.8891 - val_loss: 0.3198 - val_accuracy: 0.9246 - lr: 0.0010\n",
            "Epoch 11/25\n",
            "690/690 [==============================] - ETA: 0s - loss: 0.2836 - accuracy: 0.8949"
          ]
        },
        {
          "metadata": {
            "tags": null
          },
          "name": "stderr",
          "output_type": "stream",
          "text": [
            "WARNING:tensorflow:Learning rate reduction is conditioned on metric `val_acc` which is not available. Available metrics are: loss,accuracy,val_loss,val_accuracy,lr\n"
          ]
        },
        {
          "metadata": {
            "tags": null
          },
          "name": "stdout",
          "output_type": "stream",
          "text": [
            "690/690 [==============================] - 651s 944ms/step - loss: 0.2836 - accuracy: 0.8949 - val_loss: 0.3453 - val_accuracy: 0.9072 - lr: 0.0010\n",
            "Epoch 12/25\n",
            "690/690 [==============================] - ETA: 0s - loss: 0.3008 - accuracy: 0.8883"
          ]
        },
        {
          "metadata": {
            "tags": null
          },
          "name": "stderr",
          "output_type": "stream",
          "text": [
            "WARNING:tensorflow:Learning rate reduction is conditioned on metric `val_acc` which is not available. Available metrics are: loss,accuracy,val_loss,val_accuracy,lr\n"
          ]
        },
        {
          "metadata": {
            "tags": null
          },
          "name": "stdout",
          "output_type": "stream",
          "text": [
            "690/690 [==============================] - 650s 942ms/step - loss: 0.3008 - accuracy: 0.8883 - val_loss: 0.0937 - val_accuracy: 0.9797 - lr: 0.0010\n",
            "Epoch 13/25\n",
            "690/690 [==============================] - ETA: 0s - loss: 0.2915 - accuracy: 0.8970"
          ]
        },
        {
          "metadata": {
            "tags": null
          },
          "name": "stderr",
          "output_type": "stream",
          "text": [
            "WARNING:tensorflow:Learning rate reduction is conditioned on metric `val_acc` which is not available. Available metrics are: loss,accuracy,val_loss,val_accuracy,lr\n"
          ]
        },
        {
          "output_type": "stream",
          "name": "stdout",
          "text": [
            "690/690 [==============================] - 654s 947ms/step - loss: 0.2915 - accuracy: 0.8970 - val_loss: 0.8900 - val_accuracy: 0.5942 - lr: 0.0010\n",
            "Epoch 14/25\n",
            "690/690 [==============================] - ETA: 0s - loss: 0.2930 - accuracy: 0.8883"
          ]
        },
        {
          "output_type": "stream",
          "name": "stderr",
          "text": [
            "WARNING:tensorflow:Learning rate reduction is conditioned on metric `val_acc` which is not available. Available metrics are: loss,accuracy,val_loss,val_accuracy,lr\n"
          ]
        },
        {
          "output_type": "stream",
          "name": "stdout",
          "text": [
            "\b\b\b\b\b\b\b\b\b\b\b\b\b\b\b\b\b\b\b\b\b\b\b\b\b\b\b\b\b\b\b\b\b\b\b\b\b\b\b\b\b\b\b\b\b\b\b\b\b\b\b\b\b\b\b\b\b\b\b\b\b\b\b\b\b\b\b\b\b\b\b\b\b\b\b\b\b\b\b\b\b\b\b\b\r690/690 [==============================] - 649s 941ms/step - loss: 0.2930 - accuracy: 0.8883 - val_loss: 0.1491 - val_accuracy: 0.9826 - lr: 0.0010\n",
            "Epoch 15/25\n",
            "690/690 [==============================] - ETA: 0s - loss: 0.2826 - accuracy: 0.8999"
          ]
        },
        {
          "output_type": "stream",
          "name": "stderr",
          "text": [
            "WARNING:tensorflow:Learning rate reduction is conditioned on metric `val_acc` which is not available. Available metrics are: loss,accuracy,val_loss,val_accuracy,lr\n"
          ]
        },
        {
          "output_type": "stream",
          "name": "stdout",
          "text": [
            "\b\b\b\b\b\b\b\b\b\b\b\b\b\b\b\b\b\b\b\b\b\b\b\b\b\b\b\b\b\b\b\b\b\b\b\b\b\b\b\b\b\b\b\b\b\b\b\b\b\b\b\b\b\b\b\b\b\b\b\b\b\b\b\b\b\b\b\b\b\b\b\b\b\b\b\b\b\b\b\b\b\b\b\b\r690/690 [==============================] - 651s 944ms/step - loss: 0.2826 - accuracy: 0.8999 - val_loss: 0.1235 - val_accuracy: 0.9797 - lr: 0.0010\n",
            "Epoch 16/25\n",
            "690/690 [==============================] - ETA: 0s - loss: 0.2703 - accuracy: 0.9072"
          ]
        },
        {
          "output_type": "stream",
          "name": "stderr",
          "text": [
            "WARNING:tensorflow:Learning rate reduction is conditioned on metric `val_acc` which is not available. Available metrics are: loss,accuracy,val_loss,val_accuracy,lr\n"
          ]
        },
        {
          "output_type": "stream",
          "name": "stdout",
          "text": [
            "\b\b\b\b\b\b\b\b\b\b\b\b\b\b\b\b\b\b\b\b\b\b\b\b\b\b\b\b\b\b\b\b\b\b\b\b\b\b\b\b\b\b\b\b\b\b\b\b\b\b\b\b\b\b\b\b\b\b\b\b\b\b\b\b\b\b\b\b\b\b\b\b\b\b\b\b\b\b\b\b\b\b\b\b\r690/690 [==============================] - 652s 946ms/step - loss: 0.2703 - accuracy: 0.9072 - val_loss: 0.1971 - val_accuracy: 0.9594 - lr: 0.0010\n",
            "Epoch 17/25\n",
            "690/690 [==============================] - ETA: 0s - loss: 0.2714 - accuracy: 0.8956"
          ]
        },
        {
          "output_type": "stream",
          "name": "stderr",
          "text": [
            "WARNING:tensorflow:Learning rate reduction is conditioned on metric `val_acc` which is not available. Available metrics are: loss,accuracy,val_loss,val_accuracy,lr\n"
          ]
        },
        {
          "output_type": "stream",
          "name": "stdout",
          "text": [
            "\b\b\b\b\b\b\b\b\b\b\b\b\b\b\b\b\b\b\b\b\b\b\b\b\b\b\b\b\b\b\b\b\b\b\b\b\b\b\b\b\b\b\b\b\b\b\b\b\b\b\b\b\b\b\b\b\b\b\b\b\b\b\b\b\b\b\b\b\b\b\b\b\b\b\b\b\b\b\b\b\b\b\b\b\r690/690 [==============================] - 649s 940ms/step - loss: 0.2714 - accuracy: 0.8956 - val_loss: 0.2265 - val_accuracy: 0.9478 - lr: 0.0010\n",
            "Epoch 18/25\n",
            "690/690 [==============================] - ETA: 0s - loss: 0.2693 - accuracy: 0.9036"
          ]
        },
        {
          "output_type": "stream",
          "name": "stderr",
          "text": [
            "WARNING:tensorflow:Learning rate reduction is conditioned on metric `val_acc` which is not available. Available metrics are: loss,accuracy,val_loss,val_accuracy,lr\n"
          ]
        },
        {
          "output_type": "stream",
          "name": "stdout",
          "text": [
            "\b\b\b\b\b\b\b\b\b\b\b\b\b\b\b\b\b\b\b\b\b\b\b\b\b\b\b\b\b\b\b\b\b\b\b\b\b\b\b\b\b\b\b\b\b\b\b\b\b\b\b\b\b\b\b\b\b\b\b\b\b\b\b\b\b\b\b\b\b\b\b\b\b\b\b\b\b\b\b\b\b\b\b\b\r690/690 [==============================] - 650s 942ms/step - loss: 0.2693 - accuracy: 0.9036 - val_loss: 1.8465 - val_accuracy: 0.4957 - lr: 0.0010\n",
            "Epoch 19/25\n",
            "690/690 [==============================] - ETA: 0s - loss: 0.2775 - accuracy: 0.8963"
          ]
        },
        {
          "output_type": "stream",
          "name": "stderr",
          "text": [
            "WARNING:tensorflow:Learning rate reduction is conditioned on metric `val_acc` which is not available. Available metrics are: loss,accuracy,val_loss,val_accuracy,lr\n"
          ]
        },
        {
          "output_type": "stream",
          "name": "stdout",
          "text": [
            "\b\b\b\b\b\b\b\b\b\b\b\b\b\b\b\b\b\b\b\b\b\b\b\b\b\b\b\b\b\b\b\b\b\b\b\b\b\b\b\b\b\b\b\b\b\b\b\b\b\b\b\b\b\b\b\b\b\b\b\b\b\b\b\b\b\b\b\b\b\b\b\b\b\b\b\b\b\b\b\b\b\b\b\b\r690/690 [==============================] - 651s 943ms/step - loss: 0.2775 - accuracy: 0.8963 - val_loss: 0.8543 - val_accuracy: 0.7333 - lr: 0.0010\n",
            "Epoch 20/25\n",
            "690/690 [==============================] - ETA: 0s - loss: 0.2671 - accuracy: 0.9007"
          ]
        },
        {
          "output_type": "stream",
          "name": "stderr",
          "text": [
            "WARNING:tensorflow:Learning rate reduction is conditioned on metric `val_acc` which is not available. Available metrics are: loss,accuracy,val_loss,val_accuracy,lr\n"
          ]
        },
        {
          "output_type": "stream",
          "name": "stdout",
          "text": [
            "\b\b\b\b\b\b\b\b\b\b\b\b\b\b\b\b\b\b\b\b\b\b\b\b\b\b\b\b\b\b\b\b\b\b\b\b\b\b\b\b\b\b\b\b\b\b\b\b\b\b\b\b\b\b\b\b\b\b\b\b\b\b\b\b\b\b\b\b\b\b\b\b\b\b\b\b\b\b\b\b\b\b\b\b\r690/690 [==============================] - 650s 942ms/step - loss: 0.2671 - accuracy: 0.9007 - val_loss: 0.3457 - val_accuracy: 0.8406 - lr: 0.0010\n",
            "Epoch 21/25\n",
            "690/690 [==============================] - ETA: 0s - loss: 0.2523 - accuracy: 0.9057"
          ]
        },
        {
          "output_type": "stream",
          "name": "stderr",
          "text": [
            "WARNING:tensorflow:Learning rate reduction is conditioned on metric `val_acc` which is not available. Available metrics are: loss,accuracy,val_loss,val_accuracy,lr\n"
          ]
        },
        {
          "output_type": "stream",
          "name": "stdout",
          "text": [
            "\b\b\b\b\b\b\b\b\b\b\b\b\b\b\b\b\b\b\b\b\b\b\b\b\b\b\b\b\b\b\b\b\b\b\b\b\b\b\b\b\b\b\b\b\b\b\b\b\b\b\b\b\b\b\b\b\b\b\b\b\b\b\b\b\b\b\b\b\b\b\b\b\b\b\b\b\b\b\b\b\b\b\b\b\r690/690 [==============================] - 653s 946ms/step - loss: 0.2523 - accuracy: 0.9057 - val_loss: 0.0934 - val_accuracy: 0.9855 - lr: 0.0010\n",
            "Epoch 22/25\n",
            "690/690 [==============================] - ETA: 0s - loss: 0.2526 - accuracy: 0.9123"
          ]
        },
        {
          "output_type": "stream",
          "name": "stderr",
          "text": [
            "WARNING:tensorflow:Learning rate reduction is conditioned on metric `val_acc` which is not available. Available metrics are: loss,accuracy,val_loss,val_accuracy,lr\n"
          ]
        },
        {
          "output_type": "stream",
          "name": "stdout",
          "text": [
            "\b\b\b\b\b\b\b\b\b\b\b\b\b\b\b\b\b\b\b\b\b\b\b\b\b\b\b\b\b\b\b\b\b\b\b\b\b\b\b\b\b\b\b\b\b\b\b\b\b\b\b\b\b\b\b\b\b\b\b\b\b\b\b\b\b\b\b\b\b\b\b\b\b\b\b\b\b\b\b\b\b\b\b\b\r690/690 [==============================] - 650s 942ms/step - loss: 0.2526 - accuracy: 0.9123 - val_loss: 0.2550 - val_accuracy: 0.9188 - lr: 0.0010\n",
            "Epoch 23/25\n",
            "690/690 [==============================] - ETA: 0s - loss: 0.2528 - accuracy: 0.9057"
          ]
        },
        {
          "output_type": "stream",
          "name": "stderr",
          "text": [
            "WARNING:tensorflow:Learning rate reduction is conditioned on metric `val_acc` which is not available. Available metrics are: loss,accuracy,val_loss,val_accuracy,lr\n"
          ]
        },
        {
          "output_type": "stream",
          "name": "stdout",
          "text": [
            "\b\b\b\b\b\b\b\b\b\b\b\b\b\b\b\b\b\b\b\b\b\b\b\b\b\b\b\b\b\b\b\b\b\b\b\b\b\b\b\b\b\b\b\b\b\b\b\b\b\b\b\b\b\b\b\b\b\b\b\b\b\b\b\b\b\b\b\b\b\b\b\b\b\b\b\b\b\b\b\b\b\b\b\b\r690/690 [==============================] - 653s 946ms/step - loss: 0.2528 - accuracy: 0.9057 - val_loss: 0.6980 - val_accuracy: 0.7275 - lr: 0.0010\n",
            "Epoch 24/25\n",
            "690/690 [==============================] - ETA: 0s - loss: 0.2460 - accuracy: 0.9173"
          ]
        },
        {
          "output_type": "stream",
          "name": "stderr",
          "text": [
            "WARNING:tensorflow:Learning rate reduction is conditioned on metric `val_acc` which is not available. Available metrics are: loss,accuracy,val_loss,val_accuracy,lr\n"
          ]
        },
        {
          "output_type": "stream",
          "name": "stdout",
          "text": [
            "\b\b\b\b\b\b\b\b\b\b\b\b\b\b\b\b\b\b\b\b\b\b\b\b\b\b\b\b\b\b\b\b\b\b\b\b\b\b\b\b\b\b\b\b\b\b\b\b\b\b\b\b\b\b\b\b\b\b\b\b\b\b\b\b\b\b\b\b\b\b\b\b\b\b\b\b\b\b\b\b\b\b\b\b\r690/690 [==============================] - 650s 942ms/step - loss: 0.2460 - accuracy: 0.9173 - val_loss: 0.1644 - val_accuracy: 0.9623 - lr: 0.0010\n",
            "Epoch 25/25\n",
            "690/690 [==============================] - ETA: 0s - loss: 0.2463 - accuracy: 0.9159"
          ]
        },
        {
          "output_type": "stream",
          "name": "stderr",
          "text": [
            "WARNING:tensorflow:Learning rate reduction is conditioned on metric `val_acc` which is not available. Available metrics are: loss,accuracy,val_loss,val_accuracy,lr\n"
          ]
        },
        {
          "output_type": "stream",
          "name": "stdout",
          "text": [
            "\b\b\b\b\b\b\b\b\b\b\b\b\b\b\b\b\b\b\b\b\b\b\b\b\b\b\b\b\b\b\b\b\b\b\b\b\b\b\b\b\b\b\b\b\b\b\b\b\b\b\b\b\b\b\b\b\b\b\b\b\b\b\b\b\b\b\b\b\b\b\b\b\b\b\b\b\b\b\b\b\b\b\b\b\r690/690 [==============================] - 649s 941ms/step - loss: 0.2463 - accuracy: 0.9159 - val_loss: 0.2846 - val_accuracy: 0.8957 - lr: 0.0010\n"
          ]
        }
      ]
    },
    {
      "cell_type": "code",
      "source": [
        "score = model.evaluate(X_test_R, y_test, batch_size=batch_size, verbose=1)\n",
        "\n",
        "print('Test loss:', score[0])\n",
        "print('Test accuracy:', score[1])"
      ],
      "metadata": {
        "id": "aPdvIo8UO1e5"
      },
      "execution_count": null,
      "outputs": []
    },
    {
      "cell_type": "markdown",
      "source": [
        "Vgg16  Model"
      ],
      "metadata": {
        "id": "I6cLmaxXwHd6"
      }
    },
    {
      "cell_type": "code",
      "source": [
        "from tensorflow.keras.applications import vgg16"
      ],
      "metadata": {
        "id": "bPzrQqKpO-mk"
      },
      "execution_count": null,
      "outputs": []
    },
    {
      "cell_type": "code",
      "source": [
        "def create_vgg16():\n",
        "  model = vgg16.VGG16(include_top=True, weights=None, input_tensor=None, input_shape=(224,224,3), pooling=\"max\", classes=2)\n",
        "\n",
        "  return model\n"
      ],
      "metadata": {
        "id": "P_76nXDdPCWM"
      },
      "execution_count": null,
      "outputs": []
    },
    {
      "cell_type": "code",
      "source": [
        "vgg16_model = create_vgg16()\n",
        "vgg16_model.compile(loss='binary_crossentropy', optimizer='adam', metrics=['acc'])"
      ],
      "metadata": {
        "id": "TbUTNEPGPFg6"
      },
      "execution_count": null,
      "outputs": []
    },
    {
      "cell_type": "code",
      "source": [
        "vgg16 = vgg16_model.fit(x=X_train_R,\n",
        "                        y=y_train, batch_size=2,\n",
        "                        epochs=25, verbose=1,\n",
        "                        validation_data=(X_test_R, y_test), shuffle=True,callbacks=[learning_rate_reduction,custom_early_stopping])"
      ],
      "metadata": {
        "id": "jpjUvqY2PJPD"
      },
      "execution_count": null,
      "outputs": []
    }
  ]
}