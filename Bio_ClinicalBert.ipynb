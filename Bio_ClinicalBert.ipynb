{
  "nbformat": 4,
  "nbformat_minor": 0,
  "metadata": {
    "colab": {
      "provenance": [],
      "authorship_tag": "ABX9TyP30des0VVrIy3IsKMLn8k/",
      "include_colab_link": true
    },
    "kernelspec": {
      "name": "python3",
      "display_name": "Python 3"
    },
    "language_info": {
      "name": "python"
    }
  },
  "cells": [
    {
      "cell_type": "markdown",
      "metadata": {
        "id": "view-in-github",
        "colab_type": "text"
      },
      "source": [
        "<a href=\"https://colab.research.google.com/github/NakkaAnkarao8/cancer-detection/blob/main/Bio_ClinicalBert.ipynb\" target=\"_parent\"><img src=\"https://colab.research.google.com/assets/colab-badge.svg\" alt=\"Open In Colab\"/></a>"
      ]
    },
    {
      "cell_type": "code",
      "execution_count": null,
      "metadata": {
        "colab": {
          "base_uri": "https://localhost:8080/"
        },
        "id": "EbcSfP98ky3d",
        "outputId": "a0ff5c86-56c6-4ceb-c4f7-b463723bb0d3"
      },
      "outputs": [
        {
          "output_type": "stream",
          "name": "stdout",
          "text": [
            "Drive already mounted at /content/drive; to attempt to forcibly remount, call drive.mount(\"/content/drive\", force_remount=True).\n"
          ]
        }
      ],
      "source": [
        "from google.colab import drive\n",
        "drive.mount('/content/drive')"
      ]
    },
    {
      "cell_type": "code",
      "source": [
        "!pip install transformers"
      ],
      "metadata": {
        "id": "1tNxHfPak46E"
      },
      "execution_count": null,
      "outputs": []
    },
    {
      "cell_type": "code",
      "source": [
        "import torch\n",
        "import torch.nn as nn\n",
        "import pandas as pd\n",
        "import numpy as np\n",
        "from sklearn.model_selection import train_test_split\n",
        "from sklearn.metrics import classification_report\n",
        "import transformers\n",
        "from transformers import BertModel, BertTokenizer\n",
        "import warnings\n",
        "warnings.filterwarnings('ignore')"
      ],
      "metadata": {
        "id": "R7dOmY_6pRrW"
      },
      "execution_count": null,
      "outputs": []
    },
    {
      "cell_type": "code",
      "source": [
        "data = pd.read_csv('/content/drive/MyDrive/data/mtsamples.csv')"
      ],
      "metadata": {
        "id": "rJeO6pA8lJS9"
      },
      "execution_count": null,
      "outputs": []
    },
    {
      "cell_type": "code",
      "source": [
        "data.head(5)"
      ],
      "metadata": {
        "id": "owwksafnyjFh"
      },
      "execution_count": null,
      "outputs": []
    },
    {
      "cell_type": "code",
      "source": [
        "data['description'][10]"
      ],
      "metadata": {
        "colab": {
          "base_uri": "https://localhost:8080/",
          "height": 35
        },
        "id": "4MUf1iqRyoKU",
        "outputId": "89c08ea7-7adf-489d-ebe3-6b3ee9e00a36"
      },
      "execution_count": null,
      "outputs": [
        {
          "output_type": "execute_result",
          "data": {
            "text/plain": [
              "' Morbid obesity.  Laparoscopic Roux-en-Y gastric bypass, antecolic, antegastric with 25-mm EEA anastamosis, esophagogastroduodenoscopy.'"
            ],
            "application/vnd.google.colaboratory.intrinsic+json": {
              "type": "string"
            }
          },
          "metadata": {},
          "execution_count": 10
        }
      ]
    },
    {
      "cell_type": "code",
      "source": [
        "data['transcription'][10]"
      ],
      "metadata": {
        "colab": {
          "base_uri": "https://localhost:8080/",
          "height": 140
        },
        "id": "HjwkZGSnyuq5",
        "outputId": "5ac99c42-0e2b-4fb8-9a28-7ec00e52372c"
      },
      "execution_count": null,
      "outputs": [
        {
          "output_type": "execute_result",
          "data": {
            "text/plain": [
              "'PREOPERATIVE DIAGNOSIS: , Morbid obesity. ,POSTOPERATIVE DIAGNOSIS: , Morbid obesity. ,PROCEDURE:,  Laparoscopic Roux-en-Y gastric bypass, antecolic, antegastric with 25-mm EEA anastamosis, esophagogastroduodenoscopy. ,ANESTHESIA: , General with endotracheal intubation. ,INDICATIONS FOR PROCEDURE: , This is a 50-year-old male who has been overweight for many years and has tried multiple different weight loss diets and programs.  The patient has now begun to have comorbidities related to the obesity.  The patient has attended our bariatric seminar and met with our dietician and psychologist.  The patient has read through our comprehensive handout and understands the risks and benefits of bypass surgery as evidenced by the signing of our consent form.,PROCEDURE IN DETAIL: , The risks and benefits were explained to the patient.  Consent was obtained.  The patient was taken to the operating room and placed supine on the operating room table.  General anesthesia was administered with endotracheal intubation.  A Foley catheter was placed for bladder decompression.  All pressure points were carefully padded, and sequential compression devices were placed on the legs.  The abdomen was prepped and draped in standard, sterile, surgical fashion.  Marcaine was injected into the umbilicus.'"
            ],
            "application/vnd.google.colaboratory.intrinsic+json": {
              "type": "string"
            }
          },
          "metadata": {},
          "execution_count": 9
        }
      ]
    },
    {
      "cell_type": "code",
      "source": [
        "data = data[['transcription', 'medical_specialty']]"
      ],
      "metadata": {
        "id": "iSuQVy5qENvF"
      },
      "execution_count": null,
      "outputs": []
    },
    {
      "cell_type": "code",
      "source": [
        "data_counts = data['medical_specialty'].value_counts()\n",
        "data_counts = data_counts[data_counts<=350].index\n",
        "data = data[~data['medical_specialty'].isin(data_counts)]"
      ],
      "metadata": {
        "id": "jdZQiiN2ETee"
      },
      "execution_count": null,
      "outputs": []
    },
    {
      "cell_type": "code",
      "source": [
        "data = data.drop(data[data['transcription'].isna()].index)"
      ],
      "metadata": {
        "id": "XssiMRisFLLq"
      },
      "execution_count": null,
      "outputs": []
    },
    {
      "cell_type": "code",
      "source": [
        "data_categories  = data.groupby(data['medical_specialty'])\n",
        "i = 1\n",
        "print('===========Original Categories =======================')\n",
        "for catName,dataCategory in data_categories:\n",
        "    print('Cat:'+str(i)+' '+catName + ' : '+ str(len(dataCategory)) )\n",
        "    i = i+1\n",
        "print('==================================')"
      ],
      "metadata": {
        "colab": {
          "base_uri": "https://localhost:8080/"
        },
        "id": "-WhXoBS6l4zb",
        "outputId": "778cd9db-5d40-43cd-e00f-e7122f502e81"
      },
      "execution_count": null,
      "outputs": [
        {
          "output_type": "stream",
          "name": "stdout",
          "text": [
            "===========Original Categories =======================\n",
            "Cat:1  Allergy / Immunology : 7\n",
            "Cat:2  Autopsy : 8\n",
            "Cat:3  Bariatrics : 18\n",
            "Cat:4  Cardiovascular / Pulmonary : 372\n",
            "Cat:5  Chiropractic : 14\n",
            "Cat:6  Consult - History and Phy. : 516\n",
            "Cat:7  Cosmetic / Plastic Surgery : 27\n",
            "Cat:8  Dentistry : 27\n",
            "Cat:9  Dermatology : 29\n",
            "Cat:10  Diets and Nutritions : 10\n",
            "Cat:11  Discharge Summary : 108\n",
            "Cat:12  ENT - Otolaryngology : 98\n",
            "Cat:13  Emergency Room Reports : 75\n",
            "Cat:14  Endocrinology : 19\n",
            "Cat:15  Gastroenterology : 230\n",
            "Cat:16  General Medicine : 259\n",
            "Cat:17  Hematology - Oncology : 90\n",
            "Cat:18  Hospice - Palliative Care : 6\n",
            "Cat:19  IME-QME-Work Comp etc. : 16\n",
            "Cat:20  Lab Medicine - Pathology : 8\n",
            "Cat:21  Letters : 23\n",
            "Cat:22  Nephrology : 81\n",
            "Cat:23  Neurology : 223\n",
            "Cat:24  Neurosurgery : 94\n",
            "Cat:25  Obstetrics / Gynecology : 160\n",
            "Cat:26  Office Notes : 51\n",
            "Cat:27  Ophthalmology : 83\n",
            "Cat:28  Orthopedic : 355\n",
            "Cat:29  Pain Management : 62\n",
            "Cat:30  Pediatrics - Neonatal : 70\n",
            "Cat:31  Physical Medicine - Rehab : 21\n",
            "Cat:32  Podiatry : 47\n",
            "Cat:33  Psychiatry / Psychology : 53\n",
            "Cat:34  Radiology : 273\n",
            "Cat:35  Rheumatology : 10\n",
            "Cat:36  SOAP / Chart / Progress Notes : 166\n",
            "Cat:37  Sleep Medicine : 20\n",
            "Cat:38  Speech - Language : 9\n",
            "Cat:39  Surgery : 1103\n",
            "Cat:40  Urology : 158\n",
            "==================================\n"
          ]
        }
      ]
    },
    {
      "cell_type": "code",
      "source": [
        "filtered_data_categories = data_categories.filter(lambda x:x.shape[0] > 50)\n",
        "final_data_categories = filtered_data_categories.groupby(filtered_data_categories['medical_specialty'])\n",
        "i=1\n",
        "print('============Reduced Categories ======================')\n",
        "for catName,dataCategory in final_data_categories:\n",
        "    print('Cat:'+str(i)+' '+catName + ' : '+ str(len(dataCategory)) )\n",
        "    i = i+1\n",
        "\n",
        "print('============ Reduced Categories ======================')"
      ],
      "metadata": {
        "colab": {
          "base_uri": "https://localhost:8080/"
        },
        "id": "62S_gHOFl8Qt",
        "outputId": "c214d205-4af7-4cda-fddd-6d7ea08c583f"
      },
      "execution_count": null,
      "outputs": [
        {
          "output_type": "stream",
          "name": "stdout",
          "text": [
            "============Reduced Categories ======================\n",
            "Cat:1  Cardiovascular / Pulmonary : 372\n",
            "Cat:2  Consult - History and Phy. : 516\n",
            "Cat:3  Discharge Summary : 108\n",
            "Cat:4  ENT - Otolaryngology : 98\n",
            "Cat:5  Emergency Room Reports : 75\n",
            "Cat:6  Gastroenterology : 230\n",
            "Cat:7  General Medicine : 259\n",
            "Cat:8  Hematology - Oncology : 90\n",
            "Cat:9  Nephrology : 81\n",
            "Cat:10  Neurology : 223\n",
            "Cat:11  Neurosurgery : 94\n",
            "Cat:12  Obstetrics / Gynecology : 160\n",
            "Cat:13  Office Notes : 51\n",
            "Cat:14  Ophthalmology : 83\n",
            "Cat:15  Orthopedic : 355\n",
            "Cat:16  Pain Management : 62\n",
            "Cat:17  Pediatrics - Neonatal : 70\n",
            "Cat:18  Psychiatry / Psychology : 53\n",
            "Cat:19  Radiology : 273\n",
            "Cat:20  SOAP / Chart / Progress Notes : 166\n",
            "Cat:21  Surgery : 1103\n",
            "Cat:22  Urology : 158\n",
            "============ Reduced Categories ======================\n"
          ]
        }
      ]
    },
    {
      "cell_type": "code",
      "source": [
        "filtered_data_categories['medical_specialty'] =filtered_data_categories['medical_specialty'].apply(lambda x:str.strip(x))\n",
        "mask = filtered_data_categories['medical_specialty'] == 'Surgery'\n",
        "filtered_data_categories = filtered_data_categories[~mask]\n",
        "final_data_categories = filtered_data_categories.groupby(filtered_data_categories['medical_specialty'])\n",
        "mask = filtered_data_categories['medical_specialty'] == 'SOAP / Chart / Progress Notes'\n",
        "filtered_data_categories = filtered_data_categories[~mask]\n",
        "mask = filtered_data_categories['medical_specialty'] == 'Office Notes'\n",
        "filtered_data_categories = filtered_data_categories[~mask]\n",
        "mask = filtered_data_categories['medical_specialty'] == 'Consult - History and Phy.'\n",
        "filtered_data_categories = filtered_data_categories[~mask]\n",
        "mask = filtered_data_categories['medical_specialty'] == 'Emergency Room Reports'\n",
        "filtered_data_categories = filtered_data_categories[~mask]\n",
        "mask = filtered_data_categories['medical_specialty'] == 'Discharge Summary'\n",
        "filtered_data_categories = filtered_data_categories[~mask]\n",
        "mask = filtered_data_categories['medical_specialty'] == 'Pain Management'\n",
        "filtered_data_categories = filtered_data_categories[~mask]\n",
        "mask = filtered_data_categories['medical_specialty'] == 'General Medicine'\n",
        "filtered_data_categories = filtered_data_categories[~mask]\n",
        "\n",
        "\n",
        "mask = filtered_data_categories['medical_specialty'] == 'Neurosurgery'\n",
        "filtered_data_categories.loc[mask, 'medical_specialty'] = 'Neurology'\n",
        "mask = filtered_data_categories['medical_specialty'] == 'Nephrology'\n",
        "filtered_data_categories.loc[mask, 'medical_specialty'] = 'Urology'\n",
        "\n",
        "\n",
        "i=1\n",
        "print('============Reduced Categories======================')\n",
        "for catName,dataCategory in final_data_categories:\n",
        "    print('Cat:'+str(i)+' '+catName + ' : '+ str(len(dataCategory)) )\n",
        "    i = i+1\n",
        "print('============Reduced Categories======================')\n",
        "\n",
        "\n",
        "data = filtered_data_categories[['transcription', 'medical_specialty']]\n",
        "data = data.drop(data[data['transcription'].isna()].index)\n",
        "data.shape"
      ],
      "metadata": {
        "colab": {
          "base_uri": "https://localhost:8080/"
        },
        "id": "FpMsfcFemDPk",
        "outputId": "d0abab8b-6c1c-4b60-e601-44d1131607dd"
      },
      "execution_count": null,
      "outputs": [
        {
          "output_type": "stream",
          "name": "stdout",
          "text": [
            "============Reduced Categories======================\n",
            "Cat:1 Cardiovascular / Pulmonary : 372\n",
            "Cat:2 Consult - History and Phy. : 516\n",
            "Cat:3 Discharge Summary : 108\n",
            "Cat:4 ENT - Otolaryngology : 98\n",
            "Cat:5 Emergency Room Reports : 75\n",
            "Cat:6 Gastroenterology : 230\n",
            "Cat:7 General Medicine : 259\n",
            "Cat:8 Hematology - Oncology : 90\n",
            "Cat:9 Nephrology : 81\n",
            "Cat:10 Neurology : 223\n",
            "Cat:11 Neurosurgery : 94\n",
            "Cat:12 Obstetrics / Gynecology : 160\n",
            "Cat:13 Office Notes : 51\n",
            "Cat:14 Ophthalmology : 83\n",
            "Cat:15 Orthopedic : 355\n",
            "Cat:16 Pain Management : 62\n",
            "Cat:17 Pediatrics - Neonatal : 70\n",
            "Cat:18 Psychiatry / Psychology : 53\n",
            "Cat:19 Radiology : 273\n",
            "Cat:20 SOAP / Chart / Progress Notes : 166\n",
            "Cat:21 Urology : 158\n",
            "============Reduced Categories======================\n"
          ]
        },
        {
          "output_type": "execute_result",
          "data": {
            "text/plain": [
              "(2324, 2)"
            ]
          },
          "metadata": {},
          "execution_count": 7
        }
      ]
    },
    {
      "cell_type": "code",
      "source": [
        "from sklearn.preprocessing import LabelEncoder\n",
        "le = LabelEncoder()\n",
        "data['medical_specialty'] = le.fit_transform(data['medical_specialty'])\n",
        "data.head(5)"
      ],
      "metadata": {
        "colab": {
          "base_uri": "https://localhost:8080/",
          "height": 206
        },
        "id": "bnoB7eWYoVZg",
        "outputId": "ffbe27e2-12bc-45cf-ba8a-3193f3d29f57"
      },
      "execution_count": null,
      "outputs": [
        {
          "output_type": "execute_result",
          "data": {
            "text/plain": [
              "                                        transcription  medical_specialty\n",
              "3   2-D M-MODE: , ,1.  Left atrial enlargement wit...                  0\n",
              "4   1.  The left ventricular cavity size and wall ...                  0\n",
              "7   2-D ECHOCARDIOGRAM,Multiple views of the heart...                  0\n",
              "9   DESCRIPTION:,1.  Normal cardiac chambers size....                  0\n",
              "11  2-D STUDY,1. Mild aortic stenosis, widely calc...                  0"
            ],
            "text/html": [
              "\n",
              "\n",
              "  <div id=\"df-a1344f01-a84a-461c-aca4-7306a2410bac\">\n",
              "    <div class=\"colab-df-container\">\n",
              "      <div>\n",
              "<style scoped>\n",
              "    .dataframe tbody tr th:only-of-type {\n",
              "        vertical-align: middle;\n",
              "    }\n",
              "\n",
              "    .dataframe tbody tr th {\n",
              "        vertical-align: top;\n",
              "    }\n",
              "\n",
              "    .dataframe thead th {\n",
              "        text-align: right;\n",
              "    }\n",
              "</style>\n",
              "<table border=\"1\" class=\"dataframe\">\n",
              "  <thead>\n",
              "    <tr style=\"text-align: right;\">\n",
              "      <th></th>\n",
              "      <th>transcription</th>\n",
              "      <th>medical_specialty</th>\n",
              "    </tr>\n",
              "  </thead>\n",
              "  <tbody>\n",
              "    <tr>\n",
              "      <th>3</th>\n",
              "      <td>2-D M-MODE: , ,1.  Left atrial enlargement wit...</td>\n",
              "      <td>0</td>\n",
              "    </tr>\n",
              "    <tr>\n",
              "      <th>4</th>\n",
              "      <td>1.  The left ventricular cavity size and wall ...</td>\n",
              "      <td>0</td>\n",
              "    </tr>\n",
              "    <tr>\n",
              "      <th>7</th>\n",
              "      <td>2-D ECHOCARDIOGRAM,Multiple views of the heart...</td>\n",
              "      <td>0</td>\n",
              "    </tr>\n",
              "    <tr>\n",
              "      <th>9</th>\n",
              "      <td>DESCRIPTION:,1.  Normal cardiac chambers size....</td>\n",
              "      <td>0</td>\n",
              "    </tr>\n",
              "    <tr>\n",
              "      <th>11</th>\n",
              "      <td>2-D STUDY,1. Mild aortic stenosis, widely calc...</td>\n",
              "      <td>0</td>\n",
              "    </tr>\n",
              "  </tbody>\n",
              "</table>\n",
              "</div>\n",
              "      <button class=\"colab-df-convert\" onclick=\"convertToInteractive('df-a1344f01-a84a-461c-aca4-7306a2410bac')\"\n",
              "              title=\"Convert this dataframe to an interactive table.\"\n",
              "              style=\"display:none;\">\n",
              "\n",
              "  <svg xmlns=\"http://www.w3.org/2000/svg\" height=\"24px\"viewBox=\"0 0 24 24\"\n",
              "       width=\"24px\">\n",
              "    <path d=\"M0 0h24v24H0V0z\" fill=\"none\"/>\n",
              "    <path d=\"M18.56 5.44l.94 2.06.94-2.06 2.06-.94-2.06-.94-.94-2.06-.94 2.06-2.06.94zm-11 1L8.5 8.5l.94-2.06 2.06-.94-2.06-.94L8.5 2.5l-.94 2.06-2.06.94zm10 10l.94 2.06.94-2.06 2.06-.94-2.06-.94-.94-2.06-.94 2.06-2.06.94z\"/><path d=\"M17.41 7.96l-1.37-1.37c-.4-.4-.92-.59-1.43-.59-.52 0-1.04.2-1.43.59L10.3 9.45l-7.72 7.72c-.78.78-.78 2.05 0 2.83L4 21.41c.39.39.9.59 1.41.59.51 0 1.02-.2 1.41-.59l7.78-7.78 2.81-2.81c.8-.78.8-2.07 0-2.86zM5.41 20L4 18.59l7.72-7.72 1.47 1.35L5.41 20z\"/>\n",
              "  </svg>\n",
              "      </button>\n",
              "\n",
              "\n",
              "\n",
              "    <div id=\"df-02bdb538-f25e-456f-af64-841bc3125839\">\n",
              "      <button class=\"colab-df-quickchart\" onclick=\"quickchart('df-02bdb538-f25e-456f-af64-841bc3125839')\"\n",
              "              title=\"Suggest charts.\"\n",
              "              style=\"display:none;\">\n",
              "\n",
              "<svg xmlns=\"http://www.w3.org/2000/svg\" height=\"24px\"viewBox=\"0 0 24 24\"\n",
              "     width=\"24px\">\n",
              "    <g>\n",
              "        <path d=\"M19 3H5c-1.1 0-2 .9-2 2v14c0 1.1.9 2 2 2h14c1.1 0 2-.9 2-2V5c0-1.1-.9-2-2-2zM9 17H7v-7h2v7zm4 0h-2V7h2v10zm4 0h-2v-4h2v4z\"/>\n",
              "    </g>\n",
              "</svg>\n",
              "      </button>\n",
              "    </div>\n",
              "\n",
              "<style>\n",
              "  .colab-df-quickchart {\n",
              "    background-color: #E8F0FE;\n",
              "    border: none;\n",
              "    border-radius: 50%;\n",
              "    cursor: pointer;\n",
              "    display: none;\n",
              "    fill: #1967D2;\n",
              "    height: 32px;\n",
              "    padding: 0 0 0 0;\n",
              "    width: 32px;\n",
              "  }\n",
              "\n",
              "  .colab-df-quickchart:hover {\n",
              "    background-color: #E2EBFA;\n",
              "    box-shadow: 0px 1px 2px rgba(60, 64, 67, 0.3), 0px 1px 3px 1px rgba(60, 64, 67, 0.15);\n",
              "    fill: #174EA6;\n",
              "  }\n",
              "\n",
              "  [theme=dark] .colab-df-quickchart {\n",
              "    background-color: #3B4455;\n",
              "    fill: #D2E3FC;\n",
              "  }\n",
              "\n",
              "  [theme=dark] .colab-df-quickchart:hover {\n",
              "    background-color: #434B5C;\n",
              "    box-shadow: 0px 1px 3px 1px rgba(0, 0, 0, 0.15);\n",
              "    filter: drop-shadow(0px 1px 2px rgba(0, 0, 0, 0.3));\n",
              "    fill: #FFFFFF;\n",
              "  }\n",
              "</style>\n",
              "\n",
              "    <script>\n",
              "      async function quickchart(key) {\n",
              "        const containerElement = document.querySelector('#' + key);\n",
              "        const charts = await google.colab.kernel.invokeFunction(\n",
              "            'suggestCharts', [key], {});\n",
              "      }\n",
              "    </script>\n",
              "\n",
              "      <script>\n",
              "\n",
              "function displayQuickchartButton(domScope) {\n",
              "  let quickchartButtonEl =\n",
              "    domScope.querySelector('#df-02bdb538-f25e-456f-af64-841bc3125839 button.colab-df-quickchart');\n",
              "  quickchartButtonEl.style.display =\n",
              "    google.colab.kernel.accessAllowed ? 'block' : 'none';\n",
              "}\n",
              "\n",
              "        displayQuickchartButton(document);\n",
              "      </script>\n",
              "      <style>\n",
              "    .colab-df-container {\n",
              "      display:flex;\n",
              "      flex-wrap:wrap;\n",
              "      gap: 12px;\n",
              "    }\n",
              "\n",
              "    .colab-df-convert {\n",
              "      background-color: #E8F0FE;\n",
              "      border: none;\n",
              "      border-radius: 50%;\n",
              "      cursor: pointer;\n",
              "      display: none;\n",
              "      fill: #1967D2;\n",
              "      height: 32px;\n",
              "      padding: 0 0 0 0;\n",
              "      width: 32px;\n",
              "    }\n",
              "\n",
              "    .colab-df-convert:hover {\n",
              "      background-color: #E2EBFA;\n",
              "      box-shadow: 0px 1px 2px rgba(60, 64, 67, 0.3), 0px 1px 3px 1px rgba(60, 64, 67, 0.15);\n",
              "      fill: #174EA6;\n",
              "    }\n",
              "\n",
              "    [theme=dark] .colab-df-convert {\n",
              "      background-color: #3B4455;\n",
              "      fill: #D2E3FC;\n",
              "    }\n",
              "\n",
              "    [theme=dark] .colab-df-convert:hover {\n",
              "      background-color: #434B5C;\n",
              "      box-shadow: 0px 1px 3px 1px rgba(0, 0, 0, 0.15);\n",
              "      filter: drop-shadow(0px 1px 2px rgba(0, 0, 0, 0.3));\n",
              "      fill: #FFFFFF;\n",
              "    }\n",
              "  </style>\n",
              "\n",
              "      <script>\n",
              "        const buttonEl =\n",
              "          document.querySelector('#df-a1344f01-a84a-461c-aca4-7306a2410bac button.colab-df-convert');\n",
              "        buttonEl.style.display =\n",
              "          google.colab.kernel.accessAllowed ? 'block' : 'none';\n",
              "\n",
              "        async function convertToInteractive(key) {\n",
              "          const element = document.querySelector('#df-a1344f01-a84a-461c-aca4-7306a2410bac');\n",
              "          const dataTable =\n",
              "            await google.colab.kernel.invokeFunction('convertToInteractive',\n",
              "                                                     [key], {});\n",
              "          if (!dataTable) return;\n",
              "\n",
              "          const docLinkHtml = 'Like what you see? Visit the ' +\n",
              "            '<a target=\"_blank\" href=https://colab.research.google.com/notebooks/data_table.ipynb>data table notebook</a>'\n",
              "            + ' to learn more about interactive tables.';\n",
              "          element.innerHTML = '';\n",
              "          dataTable['output_type'] = 'display_data';\n",
              "          await google.colab.output.renderOutput(dataTable, element);\n",
              "          const docLink = document.createElement('div');\n",
              "          docLink.innerHTML = docLinkHtml;\n",
              "          element.appendChild(docLink);\n",
              "        }\n",
              "      </script>\n",
              "    </div>\n",
              "  </div>\n"
            ]
          },
          "metadata": {},
          "execution_count": 7
        }
      ]
    },
    {
      "cell_type": "code",
      "source": [
        "data.shape"
      ],
      "metadata": {
        "colab": {
          "base_uri": "https://localhost:8080/"
        },
        "id": "bPTBUUQlocb-",
        "outputId": "21ddc71c-92f8-495a-e6e5-7a98feaf50e1"
      },
      "execution_count": null,
      "outputs": [
        {
          "output_type": "execute_result",
          "data": {
            "text/plain": [
              "(2346, 2)"
            ]
          },
          "metadata": {},
          "execution_count": 8
        }
      ]
    },
    {
      "cell_type": "code",
      "source": [
        "data.describe"
      ],
      "metadata": {
        "colab": {
          "base_uri": "https://localhost:8080/"
        },
        "id": "p6qajE82ohSX",
        "outputId": "9c91a066-26d8-42fe-96e0-096a4b2f102c"
      },
      "execution_count": null,
      "outputs": [
        {
          "output_type": "execute_result",
          "data": {
            "text/plain": [
              "<bound method NDFrame.describe of                                           transcription  medical_specialty\n",
              "3     2-D M-MODE: , ,1.  Left atrial enlargement wit...                  0\n",
              "4     1.  The left ventricular cavity size and wall ...                  0\n",
              "7     2-D ECHOCARDIOGRAM,Multiple views of the heart...                  0\n",
              "9     DESCRIPTION:,1.  Normal cardiac chambers size....                  0\n",
              "11    2-D STUDY,1. Mild aortic stenosis, widely calc...                  0\n",
              "...                                                 ...                ...\n",
              "4972  INDICATION: , Chest pain.,TYPE OF TEST: , Aden...                  0\n",
              "4973  CHIEF COMPLAINT: , Chest pain.,HISTORY OF PRES...                  0\n",
              "4974  HISTORY OF PRESENT ILLNESS: , The patient is a...                  0\n",
              "4975  HISTORY OF PRESENT ILLNESS: , Mr. ABC is a 60-...                  0\n",
              "4976  REASON FOR CONSULTATION:  ,Abnormal echocardio...                  0\n",
              "\n",
              "[2346 rows x 2 columns]>"
            ]
          },
          "metadata": {},
          "execution_count": 9
        }
      ]
    },
    {
      "cell_type": "code",
      "source": [
        "data.info()"
      ],
      "metadata": {
        "colab": {
          "base_uri": "https://localhost:8080/"
        },
        "id": "iUGVjNUroo3d",
        "outputId": "8a54a517-0f39-4394-c030-ff1a1658b450"
      },
      "execution_count": null,
      "outputs": [
        {
          "output_type": "stream",
          "name": "stdout",
          "text": [
            "<class 'pandas.core.frame.DataFrame'>\n",
            "Int64Index: 2346 entries, 3 to 4976\n",
            "Data columns (total 2 columns):\n",
            " #   Column             Non-Null Count  Dtype \n",
            "---  ------             --------------  ----- \n",
            " 0   transcription      2330 non-null   object\n",
            " 1   medical_specialty  2346 non-null   int64 \n",
            "dtypes: int64(1), object(1)\n",
            "memory usage: 55.0+ KB\n"
          ]
        }
      ]
    },
    {
      "cell_type": "code",
      "source": [
        "data['medical_specialty'].value_counts()"
      ],
      "metadata": {
        "colab": {
          "base_uri": "https://localhost:8080/"
        },
        "id": "biIhSKWooxT1",
        "outputId": "7183956e-c765-49b2-a6f1-a1fc5dabf314"
      },
      "execution_count": null,
      "outputs": [
        {
          "output_type": "execute_result",
          "data": {
            "text/plain": [
              "3    1103\n",
              "1     516\n",
              "0     372\n",
              "2     355\n",
              "Name: medical_specialty, dtype: int64"
            ]
          },
          "metadata": {},
          "execution_count": 11
        }
      ]
    },
    {
      "cell_type": "code",
      "source": [
        "labels = data['medical_specialty'].tolist()\n",
        "class_labels = np.unique(labels)\n",
        "class_weights = len(labels) / (len(class_labels) * np.bincount(labels))\n",
        "class_weights = torch.tensor(class_weights, dtype=torch.float)\n",
        "print(class_weights)"
      ],
      "metadata": {
        "colab": {
          "base_uri": "https://localhost:8080/"
        },
        "id": "Uums9dS2pFqG",
        "outputId": "706a12ff-8954-4800-8ac8-eb2b8d71a889"
      },
      "execution_count": null,
      "outputs": [
        {
          "output_type": "stream",
          "name": "stdout",
          "text": [
            "tensor([1.5701, 1.1289, 1.6408, 0.5354])\n"
          ]
        }
      ]
    },
    {
      "cell_type": "code",
      "source": [
        "X_train, X_test, y_train, y_test = train_test_split(data['transcription'], data['medical_specialty'],test_size = 0.2, random_state = 1)"
      ],
      "metadata": {
        "id": "KOL_lbL0p3Lv"
      },
      "execution_count": null,
      "outputs": []
    },
    {
      "cell_type": "code",
      "source": [
        "from transformers import AutoTokenizer, AutoModelForSequenceClassification\n",
        "model_name = \"emilyalsentzer/Bio_ClinicalBERT\"\n",
        "tokenizer = AutoTokenizer.from_pretrained(model_name)\n",
        "model = AutoModelForSequenceClassification.from_pretrained(model_name, num_labels=12)"
      ],
      "metadata": {
        "colab": {
          "base_uri": "https://localhost:8080/"
        },
        "id": "pafgVZL0p685",
        "outputId": "dad73df0-9049-4675-a2e3-6065d68cd606"
      },
      "execution_count": null,
      "outputs": [
        {
          "output_type": "stream",
          "name": "stderr",
          "text": [
            "Some weights of BertForSequenceClassification were not initialized from the model checkpoint at emilyalsentzer/Bio_ClinicalBERT and are newly initialized: ['classifier.weight', 'classifier.bias']\n",
            "You should probably TRAIN this model on a down-stream task to be able to use it for predictions and inference.\n"
          ]
        }
      ]
    },
    {
      "cell_type": "code",
      "source": [
        "# Define hyperparameters\n",
        "batch_size = 16\n",
        "learning_rate = 3e-5\n",
        "num_epochs = 10"
      ],
      "metadata": {
        "id": "gMv1vhtIqdOZ"
      },
      "execution_count": null,
      "outputs": []
    },
    {
      "cell_type": "code",
      "source": [
        "max_seq_len = 512\n",
        "text_train = X_train.tolist()\n",
        "#texts = [(text,) for text in text_train]\n",
        "tokens_train = tokenizer.batch_encode_plus(\n",
        "    text_train,\n",
        "    max_length = max_seq_len,\n",
        "    pad_to_max_length=True,\n",
        "    truncation=True,\n",
        "    return_token_type_ids=False\n",
        ")\n",
        "text_test = X_test.tolist()\n",
        "# tokenize and encode sequences in the validation set\n",
        "tokens_val = tokenizer.batch_encode_plus(\n",
        "    text_test,\n",
        "    max_length = max_seq_len,\n",
        "    pad_to_max_length=True,\n",
        "    truncation=True,\n",
        "    return_token_type_ids=False)"
      ],
      "metadata": {
        "id": "Ua-Q5NuTqxcZ"
      },
      "execution_count": null,
      "outputs": []
    },
    {
      "cell_type": "code",
      "source": [
        "# for train set\n",
        "train_seq = torch.tensor(tokens_train['input_ids'])\n",
        "train_mask = torch.tensor(tokens_train['attention_mask'])\n",
        "train_y = torch.tensor(y_train.tolist())\n",
        "print(\"train_y:\",train_y)\n",
        "# for validation set\n",
        "val_seq = torch.tensor(tokens_val['input_ids'])\n",
        "val_mask = torch.tensor(tokens_val['attention_mask'])\n",
        "val_y = torch.tensor(y_test.tolist())\n",
        "print(\"val_y:\",val_y)"
      ],
      "metadata": {
        "colab": {
          "base_uri": "https://localhost:8080/"
        },
        "id": "oR6hKeTgqtzm",
        "outputId": "3f9dd3b7-628d-42c5-8e5c-1e6b29c8aac1"
      },
      "execution_count": null,
      "outputs": [
        {
          "output_type": "stream",
          "name": "stdout",
          "text": [
            "train_y: tensor([0, 0, 2,  ..., 2, 3, 3])\n",
            "val_y: tensor([3, 3, 0, 3, 3, 3, 3, 3, 3, 0, 2, 3, 1, 3, 2, 3, 3, 3, 1, 3, 3, 3, 0, 3,\n",
            "        0, 1, 1, 0, 0, 3, 3, 3, 3, 3, 0, 0, 3, 3, 0, 0, 0, 0, 3, 3, 0, 0, 3, 3,\n",
            "        3, 3, 3, 2, 3, 0, 1, 3, 3, 3, 1, 1, 0, 2, 3, 0, 3, 3, 3, 0, 3, 3, 2, 3,\n",
            "        1, 3, 3, 3, 2, 3, 3, 2, 3, 2, 3, 1, 3, 1, 3, 3, 0, 1, 0, 3, 1, 3, 3, 2,\n",
            "        3, 1, 1, 0, 1, 2, 3, 0, 3, 0, 3, 1, 3, 3, 0, 3, 3, 3, 3, 1, 3, 1, 2, 0,\n",
            "        1, 3, 3, 3, 1, 2, 2, 1, 2, 2, 3, 0, 1, 0, 2, 2, 3, 1, 1, 2, 0, 3, 3, 3,\n",
            "        3, 3, 3, 0, 3, 1, 3, 3, 2, 0, 0, 0, 0, 1, 3, 3, 1, 2, 1, 2, 2, 2, 1, 1,\n",
            "        3, 0, 2, 3, 2, 3, 1, 3, 1, 3, 1, 1, 3, 0, 3, 3, 2, 3, 1, 3, 2, 3, 0, 3,\n",
            "        3, 3, 1, 1, 2, 0, 3, 3, 0, 2, 3, 2, 3, 0, 3, 3, 1, 3, 3, 0, 2, 0, 1, 3,\n",
            "        2, 3, 0, 0, 2, 3, 2, 1, 2, 2, 3, 2, 0, 3, 0, 1, 3, 2, 2, 3, 2, 3, 1, 3,\n",
            "        1, 3, 3, 3, 0, 3, 2, 1, 0, 3, 1, 1, 0, 3, 3, 3, 3, 3, 3, 3, 3, 3, 1, 3,\n",
            "        1, 3, 3, 3, 3, 1, 2, 3, 3, 0, 3, 2, 0, 1, 3, 2, 2, 2, 3, 3, 0, 0, 3, 1,\n",
            "        3, 1, 3, 0, 1, 0, 3, 3, 3, 2, 3, 3, 2, 1, 1, 2, 3, 0, 3, 3, 3, 1, 0, 3,\n",
            "        3, 1, 3, 1, 3, 0, 3, 3, 3, 3, 0, 2, 1, 2, 0, 2, 1, 3, 2, 3, 2, 3, 0, 3,\n",
            "        2, 0, 3, 3, 3, 0, 0, 2, 3, 3, 3, 3, 2, 2, 2, 2, 2, 1, 0, 3, 3, 1, 3, 1,\n",
            "        2, 2, 3, 3, 3, 2, 3, 1, 3, 1, 3, 3, 2, 3, 3, 3, 1, 0, 0, 3, 3, 1, 1, 3,\n",
            "        2, 3, 0, 3, 3, 3, 1, 1, 3, 3, 3, 1, 0, 3, 3, 3, 2, 3, 3, 1, 3, 3, 0, 2,\n",
            "        1, 3, 1, 3, 3, 1, 3, 2, 2, 2, 3, 3, 3, 1, 1, 2, 2, 1, 3, 1, 1, 3, 3, 3,\n",
            "        3, 3, 1, 2, 0, 1, 1, 2, 3, 2, 3, 2, 1, 3, 3, 1, 3, 3, 3, 1, 0, 3, 2, 3,\n",
            "        1, 2, 0, 3, 0, 1, 2, 2, 0, 2])\n"
          ]
        }
      ]
    },
    {
      "cell_type": "code",
      "source": [
        "from torch.utils.data import TensorDataset, DataLoader, RandomSampler\n",
        "train_data = TensorDataset(train_seq, train_mask, train_y)\n",
        "train_dataloader = DataLoader(train_data, batch_size=batch_size)\n",
        "test_data = TensorDataset(val_seq, val_mask, val_y)\n",
        "test_dataloader = DataLoader(test_data, batch_size=batch_size)"
      ],
      "metadata": {
        "id": "52pYoVmqqqMI"
      },
      "execution_count": null,
      "outputs": []
    },
    {
      "cell_type": "code",
      "source": [
        "# Define the optimizer\n",
        "optimizer = torch.optim.AdamW(model.parameters(), lr=learning_rate)\n",
        "# Define the loss function\n",
        "loss_function = nn.CrossEntropyLoss(weight=class_weights)\n",
        "# Training loop\n",
        "device = torch.device(\"cuda\" if torch.cuda.is_available() else \"cpu\")\n",
        "model = model.to(device)"
      ],
      "metadata": {
        "id": "G0L9VktFqUSl"
      },
      "execution_count": null,
      "outputs": []
    },
    {
      "cell_type": "code",
      "source": [
        "model.train()\n",
        "\n",
        "for epoch in range(num_epochs):\n",
        "    total_loss = 0\n",
        "    predictions = []\n",
        "    true_labels = []\n",
        "\n",
        "    for batch in train_dataloader:\n",
        "        sent_id, mask, labels = batch\n",
        "\n",
        "        optimizer.zero_grad()\n",
        "\n",
        "        outputs = model(sent_id,mask)\n",
        "\n",
        "        loss = outputs.loss\n",
        "        total_loss += loss.item()\n",
        "\n",
        "        logits = outputs.logits\n",
        "        _, predicted_labels = torch.max(logits, dim=1)\n",
        "\n",
        "        predictions.extend(predicted_labels.cpu().tolist())\n",
        "        true_labels.extend(labels.cpu().tolist())\n",
        "\n",
        "        loss.backward()\n",
        "        optimizer.step()\n",
        "\n",
        "    avg_loss = total_loss / len(train_dataloader)\n",
        "    print(f\"Epoch {epoch+1}/{num_epochs}, Train Loss: {avg_loss}\")\n",
        "    print(classification_report(true_labels, predictions))"
      ],
      "metadata": {
        "id": "nihoriTirZgS"
      },
      "execution_count": null,
      "outputs": []
    },
    {
      "cell_type": "code",
      "source": [
        "# Evaluation on test set\n",
        "model.eval()\n",
        "predictions = []\n",
        "true_labels = []\n",
        "\n",
        "with torch.no_grad():\n",
        "    for batch in test_dataloader:\n",
        "        sent_id, mask, labels = batch\n",
        "        outputs = model(sent_id, mask)\n",
        "        logits = outputs.logits\n",
        "        _, predicted_labels = torch.max(logits, dim=1)\n",
        "\n",
        "        predictions.extend(predicted_labels.cpu().tolist())\n",
        "        true_labels.extend(labels.cpu().tolist())\n",
        "\n",
        "print(\"Evaluation on Test Set:\")\n",
        "print(classification_report(true_labels, predictions))\n",
        "\n",
        "# Save the trained model\n",
        "model.save_pretrained(\"path/to/save/model\")"
      ],
      "metadata": {
        "id": "fJxwJSsPuKD8"
      },
      "execution_count": null,
      "outputs": []
    }
  ]
}